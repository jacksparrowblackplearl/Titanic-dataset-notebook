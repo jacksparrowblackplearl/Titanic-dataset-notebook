{
 "cells": [
  {
   "cell_type": "markdown",
   "id": "9185ecc7",
   "metadata": {},
   "source": [
    "# Python Coding Question:"
   ]
  },
  {
   "cell_type": "markdown",
   "id": "d87a28f6",
   "metadata": {},
   "source": [
    "    Q1). Write a program to reverse an integer in Python"
   ]
  },
  {
   "cell_type": "code",
   "execution_count": 6,
   "id": "04478204",
   "metadata": {},
   "outputs": [
    {
     "name": "stdout",
     "output_type": "stream",
     "text": [
      "54321\n",
      "0\n"
     ]
    }
   ],
   "source": [
    "num = 12345\n",
    "result=0\n",
    "while num>0:\n",
    "    result = result*10\n",
    "    result += num%10\n",
    "    num =num//10\n",
    "else:\n",
    "    pass\n",
    "print(result)\n",
    "print(num)\n",
    "        "
   ]
  },
  {
   "cell_type": "markdown",
   "id": "a68b8d43",
   "metadata": {},
   "source": [
    "    Q2). Program to check a number is Armstrong or not in python programming language\n",
    "    153 and 370 are armstrong nos."
   ]
  },
  {
   "cell_type": "code",
   "execution_count": 16,
   "id": "5663ca11",
   "metadata": {},
   "outputs": [
    {
     "name": "stdout",
     "output_type": "stream",
     "text": [
      "Not an Armstrong number\n"
     ]
    }
   ],
   "source": [
    "num1 = 151\n",
    "num2 = num1\n",
    "result = 0\n",
    "while num1>0:\n",
    "    n = num1%10\n",
    "    result =result + n**3\n",
    "    num1 = num1//10\n",
    "if num2 == result:\n",
    "    print('Provided number is armstrong number')\n",
    "else:\n",
    "    print('Not an Armstrong number')"
   ]
  },
  {
   "cell_type": "markdown",
   "id": "cbf6f91c",
   "metadata": {},
   "source": [
    "    Q3). Python program to check given number is prime or not"
   ]
  },
  {
   "cell_type": "code",
   "execution_count": 21,
   "id": "1a4aea6d",
   "metadata": {},
   "outputs": [
    {
     "name": "stdout",
     "output_type": "stream",
     "text": [
      "Number is prime\n"
     ]
    }
   ],
   "source": [
    "num3 = 37\n",
    "mid = num3//2\n",
    "flag=0\n",
    "for i in range(2,mid+1):\n",
    "    if num3%i==0:\n",
    "        flag = 1\n",
    "        break\n",
    "if flag:\n",
    "    print('Number is not prime')\n",
    "else:\n",
    "    print('Number is prime')"
   ]
  },
  {
   "cell_type": "markdown",
   "id": "bef1236b",
   "metadata": {},
   "source": [
    "    Q4). Python program to print Fibonacci series program in using Iterative methods"
   ]
  },
  {
   "cell_type": "code",
   "execution_count": 28,
   "id": "491219b6",
   "metadata": {},
   "outputs": [
    {
     "name": "stdout",
     "output_type": "stream",
     "text": [
      "Fibonacci series is : \n",
      "0\n",
      "1\n",
      "1\n",
      "2\n",
      "3\n",
      "5\n",
      "8\n",
      "13\n",
      "21\n",
      "34\n"
     ]
    }
   ],
   "source": [
    "first=0\n",
    "second=1\n",
    "print('Fibonacci series is : ')\n",
    "for i in range(0,10):\n",
    "    if i<=1:\n",
    "        result=i\n",
    "    else:\n",
    "        result=first+second\n",
    "        first=second\n",
    "        second=result\n",
    "    print(result)"
   ]
  },
  {
   "cell_type": "markdown",
   "id": "f3d7cfb3",
   "metadata": {},
   "source": [
    "    Q5). Python program to print Fibonacci series using recursive methods"
   ]
  },
  {
   "cell_type": "code",
   "execution_count": 29,
   "id": "994496cf",
   "metadata": {},
   "outputs": [
    {
     "name": "stdout",
     "output_type": "stream",
     "text": [
      "fibonacci series is : \n",
      "0\n",
      "1\n",
      "1\n",
      "2\n",
      "3\n",
      "5\n",
      "8\n",
      "13\n",
      "21\n",
      "34\n"
     ]
    }
   ],
   "source": [
    "first,second=0,1\n",
    "def fibonacci(num):\n",
    "    if num == 0:\n",
    "        return 0\n",
    "    elif num == 1:\n",
    "        return 1\n",
    "    else:\n",
    "        return fibonacci(num-1)+fibonacci(num-2)\n",
    "print('fibonacci series is : ')\n",
    "for i in range(0,10):\n",
    "    print(fibonacci(i))"
   ]
  },
  {
   "cell_type": "markdown",
   "id": "bed9a7b5",
   "metadata": {},
   "source": [
    "    Q6). Python program for palindrome number using iterative method"
   ]
  },
  {
   "cell_type": "code",
   "execution_count": 31,
   "id": "2d64c310",
   "metadata": {},
   "outputs": [
    {
     "name": "stdout",
     "output_type": "stream",
     "text": [
      "it isnt a palindrome\n"
     ]
    }
   ],
   "source": [
    "num2 = 12321\n",
    "reversen,num3=0,num2\n",
    "while num3 !=0:\n",
    "    reversen = num3%10 + reversen*10\n",
    "    num3 = num3//10\n",
    "if reversen == num2:\n",
    "    print('number is palindrome')\n",
    "else:\n",
    "    print('it isnt a palindrome')"
   ]
  },
  {
   "cell_type": "markdown",
   "id": "376418fd",
   "metadata": {},
   "source": [
    "    Q7). Python program for palindrome number using recursive method"
   ]
  },
  {
   "cell_type": "code",
   "execution_count": 35,
   "id": "44dff5dd",
   "metadata": {},
   "outputs": [
    {
     "name": "stdout",
     "output_type": "stream",
     "text": [
      "12321\n",
      "is\n"
     ]
    }
   ],
   "source": [
    "def palindrome_check(num):\n",
    "    if num<10:\n",
    "        return num\n",
    "    else:\n",
    "        return int(str(num%10)+str(palindrome_check(num//10)))\n",
    "def is_or_not(num):\n",
    "    print(palindrome_check(num))\n",
    "    if num == palindrome_check(num):\n",
    "        print('is')\n",
    "    else:\n",
    "        print('Not')\n",
    "is_or_not(12321)"
   ]
  },
  {
   "cell_type": "markdown",
   "id": "b8a91106",
   "metadata": {},
   "source": [
    "    Q8). Python program to find greatest of three number"
   ]
  },
  {
   "cell_type": "code",
   "execution_count": 37,
   "id": "ea48d1c3",
   "metadata": {},
   "outputs": [
    {
     "name": "stdout",
     "output_type": "stream",
     "text": [
      "[16, 19, 5, 20, 13, 5, 2, 9, 2, 3]\n"
     ]
    }
   ],
   "source": [
    "import random\n",
    "list_n=[]\n",
    "for i in range(10):\n",
    "    list_n.append(random.randint(1,20))\n",
    "print(list_n)"
   ]
  },
  {
   "cell_type": "code",
   "execution_count": 39,
   "id": "1b94df3b",
   "metadata": {},
   "outputs": [
    {
     "name": "stdout",
     "output_type": "stream",
     "text": [
      "20\n",
      "index is: 3\n"
     ]
    }
   ],
   "source": [
    "max=list_n[0]\n",
    "max_index=0\n",
    "for idx,n in enumerate(list_n):\n",
    "    if n>max:\n",
    "        max=n\n",
    "        max_index=idx\n",
    "print(max)\n",
    "print('index is:',max_index)"
   ]
  },
  {
   "cell_type": "markdown",
   "id": "6f2de468",
   "metadata": {},
   "source": [
    "    Q9).Below is the program to check given number representation is in binary or not\n"
   ]
  },
  {
   "cell_type": "code",
   "execution_count": 49,
   "id": "7229a47c",
   "metadata": {},
   "outputs": [
    {
     "name": "stdout",
     "output_type": "stream",
     "text": [
      "not\n"
     ]
    }
   ],
   "source": [
    "num4=1012\n",
    "while num4>0:\n",
    "    j=num4%10\n",
    "    if (j!=0 and j !=1):\n",
    "        print('not')\n",
    "        break\n",
    "    num4=num4//10\n",
    "    if num4==0:\n",
    "        print('bainary')"
   ]
  },
  {
   "cell_type": "code",
   "execution_count": 53,
   "id": "73e4987d",
   "metadata": {},
   "outputs": [
    {
     "name": "stdout",
     "output_type": "stream",
     "text": [
      "Binary\n"
     ]
    }
   ],
   "source": [
    "num4=101\n",
    "flag=1\n",
    "for i in str(num4):\n",
    "    if (int(i) != 0 and int(i) != 1):\n",
    "        flag=0\n",
    "        break\n",
    "if flag:\n",
    "    print('Binary')\n",
    "else:\n",
    "    print('Not')"
   ]
  },
  {
   "cell_type": "markdown",
   "id": "14b6e9ae",
   "metadata": {},
   "source": [
    "    Q10). sum of all digits in a number"
   ]
  },
  {
   "cell_type": "code",
   "execution_count": 55,
   "id": "ccd5b74b",
   "metadata": {},
   "outputs": [
    {
     "name": "stdout",
     "output_type": "stream",
     "text": [
      "16\n"
     ]
    }
   ],
   "source": [
    "num5 = 123451\n",
    "result=0\n",
    "while num5>0:\n",
    "    result+=num5%10\n",
    "    num5=num5//10\n",
    "print(result)"
   ]
  },
  {
   "cell_type": "markdown",
   "id": "79cfc902",
   "metadata": {},
   "source": [
    "    Q11). Python program to swap two number without using third variable"
   ]
  },
  {
   "cell_type": "code",
   "execution_count": 56,
   "id": "f05b54f7",
   "metadata": {},
   "outputs": [
    {
     "name": "stdout",
     "output_type": "stream",
     "text": [
      "12\n",
      "10\n"
     ]
    }
   ],
   "source": [
    "first=10\n",
    "second=12\n",
    "first=first-second\n",
    "second=first+second\n",
    "first=second-first\n",
    "print(first)\n",
    "print(second)"
   ]
  },
  {
   "cell_type": "markdown",
   "id": "e4a213d9",
   "metadata": {},
   "source": [
    "    Q12). Write a program in Python to find prime factors of a given integer."
   ]
  },
  {
   "cell_type": "code",
   "execution_count": 57,
   "id": "f57d75dd",
   "metadata": {},
   "outputs": [],
   "source": [
    "import math\n",
    "def prime_factors(num6):\n",
    "    while num6%2==0:\n",
    "        print(2,)\n",
    "        num6=num6/2\n",
    "    for i in range(3,int(math.sqrt(num6))+1):\n",
    "        while num6%i==0:\n",
    "            print(i,)\n",
    "            num6=num6/i\n",
    "    if num6>2:\n",
    "        print(num6)"
   ]
  },
  {
   "cell_type": "code",
   "execution_count": 59,
   "id": "426f85a0",
   "metadata": {},
   "outputs": [
    {
     "name": "stdout",
     "output_type": "stream",
     "text": [
      "2\n",
      "2\n",
      "5\n",
      "5\n"
     ]
    }
   ],
   "source": [
    "num6=100\n",
    "prime_factors(num6)"
   ]
  },
  {
   "cell_type": "markdown",
   "id": "26cdcd09",
   "metadata": {},
   "source": [
    "    Q13). Below is a program to add two numbers without using + operator in python"
   ]
  },
  {
   "cell_type": "code",
   "execution_count": 62,
   "id": "b15025eb",
   "metadata": {},
   "outputs": [
    {
     "name": "stdout",
     "output_type": "stream",
     "text": [
      "sum is : 31\n"
     ]
    }
   ],
   "source": [
    "x=10\n",
    "y=21\n",
    "temp=0\n",
    "while y!=0:\n",
    "    temp = x & y\n",
    "    x = x ^ y\n",
    "    y = temp <<1\n",
    "print('sum is :',x)"
   ]
  },
  {
   "cell_type": "markdown",
   "id": "91fed9cc",
   "metadata": {},
   "source": [
    "    Q14). Below is a program to check a given number is perfect or not in Python"
   ]
  },
  {
   "cell_type": "code",
   "execution_count": 65,
   "id": "9bbbbd65",
   "metadata": {},
   "outputs": [
    {
     "name": "stdout",
     "output_type": "stream",
     "text": [
      "28 is an perfect number\n"
     ]
    }
   ],
   "source": [
    "num = 28\n",
    "sum = 0\n",
    "for i in range(1,(num//2)+1):\n",
    "    if num%i==0:\n",
    "        sum+=i\n",
    "if sum == num:\n",
    "    print(f'{num} is an perfect number')\n",
    "else:\n",
    "    print(f'{num} isnt a one')"
   ]
  },
  {
   "cell_type": "markdown",
   "id": "8037f86c",
   "metadata": {},
   "source": [
    "    Q15). Python code to find the average of numbers"
   ]
  },
  {
   "cell_type": "code",
   "execution_count": 66,
   "id": "5e090bff",
   "metadata": {},
   "outputs": [
    {
     "name": "stdout",
     "output_type": "stream",
     "text": [
      "[46, 38, 48, 34, 34, 32, 41, 22, 20, 21]\n"
     ]
    }
   ],
   "source": [
    "import random\n",
    "avg_array = []\n",
    "for i in range(10):\n",
    "    avg_array.append(random.randint(20,50))\n",
    "\n",
    "    print(avg_array)"
   ]
  },
  {
   "cell_type": "code",
   "execution_count": 75,
   "id": "40720ceb",
   "metadata": {},
   "outputs": [
    {
     "name": "stdout",
     "output_type": "stream",
     "text": [
      "33.6\n"
     ]
    }
   ],
   "source": [
    "total_sum = 0\n",
    "for i in avg_array:\n",
    "    total_sum+=i\n",
    "avg = total_sum/len(avg_array)\n",
    "print(avg)"
   ]
  },
  {
   "cell_type": "markdown",
   "id": "b0f75b42",
   "metadata": {},
   "source": [
    "    Q16).Python Code to calculate the factorial"
   ]
  },
  {
   "cell_type": "code",
   "execution_count": 81,
   "id": "7720954c",
   "metadata": {},
   "outputs": [
    {
     "name": "stdout",
     "output_type": "stream",
     "text": [
      "factorial of 6 is 720\n"
     ]
    }
   ],
   "source": [
    "num3 = 6\n",
    "factorial = 1\n",
    "for i in range (1,num3+1):\n",
    "    factorial = factorial * i\n",
    "print(f'factorial of {num3} is {factorial}')"
   ]
  },
  {
   "cell_type": "markdown",
   "id": "a4599811",
   "metadata": {},
   "source": [
    "    Q17). Python Program to find factorial of a number using recursion"
   ]
  },
  {
   "cell_type": "code",
   "execution_count": 5,
   "id": "4e31aeed",
   "metadata": {},
   "outputs": [],
   "source": [
    "def factorial(n):\n",
    "    if n == 0:\n",
    "        print('kay karto ahes bhava')\n",
    "        pass\n",
    "    elif n==1:\n",
    "        return n\n",
    "    else:\n",
    "        return n* factorial(n-1)"
   ]
  },
  {
   "cell_type": "code",
   "execution_count": 6,
   "id": "cc437af5",
   "metadata": {},
   "outputs": [
    {
     "name": "stdout",
     "output_type": "stream",
     "text": [
      "kay karto ahes bhava\n"
     ]
    }
   ],
   "source": [
    "factorial(0)"
   ]
  },
  {
   "cell_type": "markdown",
   "id": "4d72d604",
   "metadata": {},
   "source": [
    "    Q18). Python Program to print first n prime numbers"
   ]
  },
  {
   "cell_type": "code",
   "execution_count": 19,
   "id": "0d28537b",
   "metadata": {},
   "outputs": [
    {
     "name": "stdout",
     "output_type": "stream",
     "text": [
      "{3, 5, 7, 11, 13, 17}\n"
     ]
    }
   ],
   "source": [
    "num4 = 18\n",
    "set_d=set()\n",
    "for n in range(1,num4):\n",
    "    for i in range(2,n):\n",
    "        if n%i==0:\n",
    "            break\n",
    "        elif i==(n-1):\n",
    "            set_d.add(n)\n",
    "print(set_d)"
   ]
  },
  {
   "cell_type": "code",
   "execution_count": null,
   "id": "bf0bf89d",
   "metadata": {},
   "outputs": [],
   "source": []
  }
 ],
 "metadata": {
  "kernelspec": {
   "display_name": "Python 3 (ipykernel)",
   "language": "python",
   "name": "python3"
  },
  "language_info": {
   "codemirror_mode": {
    "name": "ipython",
    "version": 3
   },
   "file_extension": ".py",
   "mimetype": "text/x-python",
   "name": "python",
   "nbconvert_exporter": "python",
   "pygments_lexer": "ipython3",
   "version": "3.9.12"
  }
 },
 "nbformat": 4,
 "nbformat_minor": 5
}
