{
 "cells": [
  {
   "cell_type": "markdown",
   "id": "a29cce34",
   "metadata": {},
   "source": [
    "# Titanic dataset Notebook\n",
    "\n",
    "A century has sailed by since the luxury steamship RMS Titanic met its catastrophic end in the North Atlantic, plunging two miles to the ocean floors after sideswiping an iceberg during its maiden voyage.Rather than the intended Port of New York, a deep-sea grave became the pride of the White Star Line’s final destination in the early hours of April 15, 1912.More than 1,500 people lost their lives in the disaster In this project I will be performing an exploratory analysis on the data"
   ]
  },
  {
   "cell_type": "markdown",
   "id": "93869912",
   "metadata": {},
   "source": [
    "### importing libraries"
   ]
  },
  {
   "cell_type": "code",
   "execution_count": 81,
   "id": "45e5f8d5",
   "metadata": {},
   "outputs": [],
   "source": [
    "import pandas as pd\n",
    "import seaborn as sns\n",
    "import numpy as np\n",
    "import matplotlib.pyplot as plt\n",
    "%matplotlib inline\n",
    "from sklearn.model_selection import train_test_split\n",
    "from sklearn.preprocessing import StandardScaler\n",
    "from sklearn.metrics import r2_score\n",
    "from sklearn.linear_model import LinearRegression\n",
    "from sklearn import linear_model\n",
    "from sklearn.pipeline import Pipeline\n",
    "from sklearn.preprocessing import PolynomialFeatures"
   ]
  },
  {
   "cell_type": "markdown",
   "id": "187a17da",
   "metadata": {},
   "source": [
    "### importing dataset"
   ]
  },
  {
   "cell_type": "code",
   "execution_count": 3,
   "id": "e59cd75b",
   "metadata": {},
   "outputs": [],
   "source": [
    "df=pd.read_csv('titanic_data.csv')"
   ]
  },
  {
   "cell_type": "code",
   "execution_count": 4,
   "id": "73c0292b",
   "metadata": {},
   "outputs": [
    {
     "data": {
      "text/html": [
       "<div>\n",
       "<style scoped>\n",
       "    .dataframe tbody tr th:only-of-type {\n",
       "        vertical-align: middle;\n",
       "    }\n",
       "\n",
       "    .dataframe tbody tr th {\n",
       "        vertical-align: top;\n",
       "    }\n",
       "\n",
       "    .dataframe thead th {\n",
       "        text-align: right;\n",
       "    }\n",
       "</style>\n",
       "<table border=\"1\" class=\"dataframe\">\n",
       "  <thead>\n",
       "    <tr style=\"text-align: right;\">\n",
       "      <th></th>\n",
       "      <th>PassengerId</th>\n",
       "      <th>Survived</th>\n",
       "      <th>Pclass</th>\n",
       "      <th>Name</th>\n",
       "      <th>Sex</th>\n",
       "      <th>Age</th>\n",
       "      <th>SibSp</th>\n",
       "      <th>Parch</th>\n",
       "      <th>Ticket</th>\n",
       "      <th>Fare</th>\n",
       "      <th>Cabin</th>\n",
       "      <th>Embarked</th>\n",
       "    </tr>\n",
       "  </thead>\n",
       "  <tbody>\n",
       "    <tr>\n",
       "      <th>0</th>\n",
       "      <td>1</td>\n",
       "      <td>0</td>\n",
       "      <td>3</td>\n",
       "      <td>Braund, Mr. Owen Harris</td>\n",
       "      <td>male</td>\n",
       "      <td>22.0</td>\n",
       "      <td>1</td>\n",
       "      <td>0</td>\n",
       "      <td>A/5 21171</td>\n",
       "      <td>7.2500</td>\n",
       "      <td>NaN</td>\n",
       "      <td>S</td>\n",
       "    </tr>\n",
       "    <tr>\n",
       "      <th>1</th>\n",
       "      <td>2</td>\n",
       "      <td>1</td>\n",
       "      <td>1</td>\n",
       "      <td>Cumings, Mrs. John Bradley (Florence Briggs Th...</td>\n",
       "      <td>female</td>\n",
       "      <td>38.0</td>\n",
       "      <td>1</td>\n",
       "      <td>0</td>\n",
       "      <td>PC 17599</td>\n",
       "      <td>71.2833</td>\n",
       "      <td>C85</td>\n",
       "      <td>C</td>\n",
       "    </tr>\n",
       "    <tr>\n",
       "      <th>2</th>\n",
       "      <td>3</td>\n",
       "      <td>1</td>\n",
       "      <td>3</td>\n",
       "      <td>Heikkinen, Miss. Laina</td>\n",
       "      <td>female</td>\n",
       "      <td>26.0</td>\n",
       "      <td>0</td>\n",
       "      <td>0</td>\n",
       "      <td>STON/O2. 3101282</td>\n",
       "      <td>7.9250</td>\n",
       "      <td>NaN</td>\n",
       "      <td>S</td>\n",
       "    </tr>\n",
       "    <tr>\n",
       "      <th>3</th>\n",
       "      <td>4</td>\n",
       "      <td>1</td>\n",
       "      <td>1</td>\n",
       "      <td>Futrelle, Mrs. Jacques Heath (Lily May Peel)</td>\n",
       "      <td>female</td>\n",
       "      <td>35.0</td>\n",
       "      <td>1</td>\n",
       "      <td>0</td>\n",
       "      <td>113803</td>\n",
       "      <td>53.1000</td>\n",
       "      <td>C123</td>\n",
       "      <td>S</td>\n",
       "    </tr>\n",
       "    <tr>\n",
       "      <th>4</th>\n",
       "      <td>5</td>\n",
       "      <td>0</td>\n",
       "      <td>3</td>\n",
       "      <td>Allen, Mr. William Henry</td>\n",
       "      <td>male</td>\n",
       "      <td>35.0</td>\n",
       "      <td>0</td>\n",
       "      <td>0</td>\n",
       "      <td>373450</td>\n",
       "      <td>8.0500</td>\n",
       "      <td>NaN</td>\n",
       "      <td>S</td>\n",
       "    </tr>\n",
       "  </tbody>\n",
       "</table>\n",
       "</div>"
      ],
      "text/plain": [
       "   PassengerId  Survived  Pclass  \\\n",
       "0            1         0       3   \n",
       "1            2         1       1   \n",
       "2            3         1       3   \n",
       "3            4         1       1   \n",
       "4            5         0       3   \n",
       "\n",
       "                                                Name     Sex   Age  SibSp  \\\n",
       "0                            Braund, Mr. Owen Harris    male  22.0      1   \n",
       "1  Cumings, Mrs. John Bradley (Florence Briggs Th...  female  38.0      1   \n",
       "2                             Heikkinen, Miss. Laina  female  26.0      0   \n",
       "3       Futrelle, Mrs. Jacques Heath (Lily May Peel)  female  35.0      1   \n",
       "4                           Allen, Mr. William Henry    male  35.0      0   \n",
       "\n",
       "   Parch            Ticket     Fare Cabin Embarked  \n",
       "0      0         A/5 21171   7.2500   NaN        S  \n",
       "1      0          PC 17599  71.2833   C85        C  \n",
       "2      0  STON/O2. 3101282   7.9250   NaN        S  \n",
       "3      0            113803  53.1000  C123        S  \n",
       "4      0            373450   8.0500   NaN        S  "
      ]
     },
     "execution_count": 4,
     "metadata": {},
     "output_type": "execute_result"
    }
   ],
   "source": [
    "df.head()"
   ]
  },
  {
   "cell_type": "markdown",
   "id": "0cf7e4b4",
   "metadata": {},
   "source": [
    "##### checking on null values"
   ]
  },
  {
   "cell_type": "code",
   "execution_count": 5,
   "id": "fefca1e9",
   "metadata": {},
   "outputs": [
    {
     "data": {
      "text/plain": [
       "PassengerId      0\n",
       "Survived         0\n",
       "Pclass           0\n",
       "Name             0\n",
       "Sex              0\n",
       "Age            177\n",
       "SibSp            0\n",
       "Parch            0\n",
       "Ticket           0\n",
       "Fare             0\n",
       "Cabin          687\n",
       "Embarked         2\n",
       "dtype: int64"
      ]
     },
     "execution_count": 5,
     "metadata": {},
     "output_type": "execute_result"
    }
   ],
   "source": [
    "df.isnull().sum()"
   ]
  },
  {
   "cell_type": "code",
   "execution_count": 6,
   "id": "7adb0f74",
   "metadata": {},
   "outputs": [
    {
     "data": {
      "text/plain": [
       "24.00    30\n",
       "22.00    27\n",
       "18.00    26\n",
       "19.00    25\n",
       "28.00    25\n",
       "         ..\n",
       "36.50     1\n",
       "55.50     1\n",
       "0.92      1\n",
       "23.50     1\n",
       "74.00     1\n",
       "Name: Age, Length: 88, dtype: int64"
      ]
     },
     "execution_count": 6,
     "metadata": {},
     "output_type": "execute_result"
    }
   ],
   "source": [
    "df['Age'].value_counts()"
   ]
  },
  {
   "cell_type": "code",
   "execution_count": 7,
   "id": "28c2add4",
   "metadata": {},
   "outputs": [
    {
     "name": "stdout",
     "output_type": "stream",
     "text": [
      "<class 'pandas.core.frame.DataFrame'>\n",
      "RangeIndex: 891 entries, 0 to 890\n",
      "Data columns (total 12 columns):\n",
      " #   Column       Non-Null Count  Dtype  \n",
      "---  ------       --------------  -----  \n",
      " 0   PassengerId  891 non-null    int64  \n",
      " 1   Survived     891 non-null    int64  \n",
      " 2   Pclass       891 non-null    int64  \n",
      " 3   Name         891 non-null    object \n",
      " 4   Sex          891 non-null    object \n",
      " 5   Age          714 non-null    float64\n",
      " 6   SibSp        891 non-null    int64  \n",
      " 7   Parch        891 non-null    int64  \n",
      " 8   Ticket       891 non-null    object \n",
      " 9   Fare         891 non-null    float64\n",
      " 10  Cabin        204 non-null    object \n",
      " 11  Embarked     889 non-null    object \n",
      "dtypes: float64(2), int64(5), object(5)\n",
      "memory usage: 83.7+ KB\n"
     ]
    }
   ],
   "source": [
    "df.info()"
   ]
  },
  {
   "cell_type": "markdown",
   "id": "1c994192",
   "metadata": {},
   "source": [
    "name, sex, ticket, cabin and embraked are object type(categorical data) and other are numbers type columns, "
   ]
  },
  {
   "cell_type": "code",
   "execution_count": 8,
   "id": "381428dd",
   "metadata": {},
   "outputs": [
    {
     "data": {
      "text/html": [
       "<div>\n",
       "<style scoped>\n",
       "    .dataframe tbody tr th:only-of-type {\n",
       "        vertical-align: middle;\n",
       "    }\n",
       "\n",
       "    .dataframe tbody tr th {\n",
       "        vertical-align: top;\n",
       "    }\n",
       "\n",
       "    .dataframe thead th {\n",
       "        text-align: right;\n",
       "    }\n",
       "</style>\n",
       "<table border=\"1\" class=\"dataframe\">\n",
       "  <thead>\n",
       "    <tr style=\"text-align: right;\">\n",
       "      <th></th>\n",
       "      <th>PassengerId</th>\n",
       "      <th>Survived</th>\n",
       "      <th>Pclass</th>\n",
       "      <th>Age</th>\n",
       "      <th>SibSp</th>\n",
       "      <th>Parch</th>\n",
       "      <th>Fare</th>\n",
       "    </tr>\n",
       "  </thead>\n",
       "  <tbody>\n",
       "    <tr>\n",
       "      <th>count</th>\n",
       "      <td>891.000000</td>\n",
       "      <td>891.000000</td>\n",
       "      <td>891.000000</td>\n",
       "      <td>714.000000</td>\n",
       "      <td>891.000000</td>\n",
       "      <td>891.000000</td>\n",
       "      <td>891.000000</td>\n",
       "    </tr>\n",
       "    <tr>\n",
       "      <th>mean</th>\n",
       "      <td>446.000000</td>\n",
       "      <td>0.383838</td>\n",
       "      <td>2.308642</td>\n",
       "      <td>29.699118</td>\n",
       "      <td>0.523008</td>\n",
       "      <td>0.381594</td>\n",
       "      <td>32.204208</td>\n",
       "    </tr>\n",
       "    <tr>\n",
       "      <th>std</th>\n",
       "      <td>257.353842</td>\n",
       "      <td>0.486592</td>\n",
       "      <td>0.836071</td>\n",
       "      <td>14.526497</td>\n",
       "      <td>1.102743</td>\n",
       "      <td>0.806057</td>\n",
       "      <td>49.693429</td>\n",
       "    </tr>\n",
       "    <tr>\n",
       "      <th>min</th>\n",
       "      <td>1.000000</td>\n",
       "      <td>0.000000</td>\n",
       "      <td>1.000000</td>\n",
       "      <td>0.420000</td>\n",
       "      <td>0.000000</td>\n",
       "      <td>0.000000</td>\n",
       "      <td>0.000000</td>\n",
       "    </tr>\n",
       "    <tr>\n",
       "      <th>25%</th>\n",
       "      <td>223.500000</td>\n",
       "      <td>0.000000</td>\n",
       "      <td>2.000000</td>\n",
       "      <td>20.125000</td>\n",
       "      <td>0.000000</td>\n",
       "      <td>0.000000</td>\n",
       "      <td>7.910400</td>\n",
       "    </tr>\n",
       "    <tr>\n",
       "      <th>50%</th>\n",
       "      <td>446.000000</td>\n",
       "      <td>0.000000</td>\n",
       "      <td>3.000000</td>\n",
       "      <td>28.000000</td>\n",
       "      <td>0.000000</td>\n",
       "      <td>0.000000</td>\n",
       "      <td>14.454200</td>\n",
       "    </tr>\n",
       "    <tr>\n",
       "      <th>75%</th>\n",
       "      <td>668.500000</td>\n",
       "      <td>1.000000</td>\n",
       "      <td>3.000000</td>\n",
       "      <td>38.000000</td>\n",
       "      <td>1.000000</td>\n",
       "      <td>0.000000</td>\n",
       "      <td>31.000000</td>\n",
       "    </tr>\n",
       "    <tr>\n",
       "      <th>max</th>\n",
       "      <td>891.000000</td>\n",
       "      <td>1.000000</td>\n",
       "      <td>3.000000</td>\n",
       "      <td>80.000000</td>\n",
       "      <td>8.000000</td>\n",
       "      <td>6.000000</td>\n",
       "      <td>512.329200</td>\n",
       "    </tr>\n",
       "  </tbody>\n",
       "</table>\n",
       "</div>"
      ],
      "text/plain": [
       "       PassengerId    Survived      Pclass         Age       SibSp  \\\n",
       "count   891.000000  891.000000  891.000000  714.000000  891.000000   \n",
       "mean    446.000000    0.383838    2.308642   29.699118    0.523008   \n",
       "std     257.353842    0.486592    0.836071   14.526497    1.102743   \n",
       "min       1.000000    0.000000    1.000000    0.420000    0.000000   \n",
       "25%     223.500000    0.000000    2.000000   20.125000    0.000000   \n",
       "50%     446.000000    0.000000    3.000000   28.000000    0.000000   \n",
       "75%     668.500000    1.000000    3.000000   38.000000    1.000000   \n",
       "max     891.000000    1.000000    3.000000   80.000000    8.000000   \n",
       "\n",
       "            Parch        Fare  \n",
       "count  891.000000  891.000000  \n",
       "mean     0.381594   32.204208  \n",
       "std      0.806057   49.693429  \n",
       "min      0.000000    0.000000  \n",
       "25%      0.000000    7.910400  \n",
       "50%      0.000000   14.454200  \n",
       "75%      0.000000   31.000000  \n",
       "max      6.000000  512.329200  "
      ]
     },
     "execution_count": 8,
     "metadata": {},
     "output_type": "execute_result"
    }
   ],
   "source": [
    "df.describe()"
   ]
  },
  {
   "cell_type": "markdown",
   "id": "17d1b444",
   "metadata": {},
   "source": [
    "the mean Age of passangers were- 29.69\n",
    "while the mean of Survived is - 0.3838\n",
    "total numbers are - 891"
   ]
  },
  {
   "cell_type": "markdown",
   "id": "6ed00317",
   "metadata": {},
   "source": [
    "### trying to handle with null values"
   ]
  },
  {
   "cell_type": "code",
   "execution_count": 9,
   "id": "5e2cfc05",
   "metadata": {},
   "outputs": [
    {
     "data": {
      "text/plain": [
       "<AxesSubplot:>"
      ]
     },
     "execution_count": 9,
     "metadata": {},
     "output_type": "execute_result"
    },
    {
     "data": {
      "image/png": "[encoded data removed]",
      "text/plain": [
       "<Figure size 432x288 with 1 Axes>"
      ]
     },
     "metadata": {
      "needs_background": "light"
     },
     "output_type": "display_data"
    }
   ],
   "source": [
    "sns.heatmap(df.isnull(),cbar=False)"
   ]
  },
  {
   "cell_type": "markdown",
   "id": "28273d80",
   "metadata": {},
   "source": [
    "cabin has more than 50% null values so rather than dealing with inserting values in there we will drop the column itself, and for the age will check the most frequent and mean value and accoring wise will use the same"
   ]
  },
  {
   "cell_type": "code",
   "execution_count": 10,
   "id": "0338f1b6",
   "metadata": {},
   "outputs": [],
   "source": [
    "df.drop(['Cabin'],axis=1,inplace=True)"
   ]
  },
  {
   "cell_type": "code",
   "execution_count": 11,
   "id": "a23be666",
   "metadata": {},
   "outputs": [
    {
     "data": {
      "text/html": [
       "<div>\n",
       "<style scoped>\n",
       "    .dataframe tbody tr th:only-of-type {\n",
       "        vertical-align: middle;\n",
       "    }\n",
       "\n",
       "    .dataframe tbody tr th {\n",
       "        vertical-align: top;\n",
       "    }\n",
       "\n",
       "    .dataframe thead th {\n",
       "        text-align: right;\n",
       "    }\n",
       "</style>\n",
       "<table border=\"1\" class=\"dataframe\">\n",
       "  <thead>\n",
       "    <tr style=\"text-align: right;\">\n",
       "      <th></th>\n",
       "      <th>PassengerId</th>\n",
       "      <th>Survived</th>\n",
       "      <th>Pclass</th>\n",
       "      <th>Name</th>\n",
       "      <th>Sex</th>\n",
       "      <th>Age</th>\n",
       "      <th>SibSp</th>\n",
       "      <th>Parch</th>\n",
       "      <th>Ticket</th>\n",
       "      <th>Fare</th>\n",
       "      <th>Embarked</th>\n",
       "    </tr>\n",
       "  </thead>\n",
       "  <tbody>\n",
       "    <tr>\n",
       "      <th>0</th>\n",
       "      <td>1</td>\n",
       "      <td>0</td>\n",
       "      <td>3</td>\n",
       "      <td>Braund, Mr. Owen Harris</td>\n",
       "      <td>male</td>\n",
       "      <td>22.0</td>\n",
       "      <td>1</td>\n",
       "      <td>0</td>\n",
       "      <td>A/5 21171</td>\n",
       "      <td>7.2500</td>\n",
       "      <td>S</td>\n",
       "    </tr>\n",
       "    <tr>\n",
       "      <th>1</th>\n",
       "      <td>2</td>\n",
       "      <td>1</td>\n",
       "      <td>1</td>\n",
       "      <td>Cumings, Mrs. John Bradley (Florence Briggs Th...</td>\n",
       "      <td>female</td>\n",
       "      <td>38.0</td>\n",
       "      <td>1</td>\n",
       "      <td>0</td>\n",
       "      <td>PC 17599</td>\n",
       "      <td>71.2833</td>\n",
       "      <td>C</td>\n",
       "    </tr>\n",
       "    <tr>\n",
       "      <th>2</th>\n",
       "      <td>3</td>\n",
       "      <td>1</td>\n",
       "      <td>3</td>\n",
       "      <td>Heikkinen, Miss. Laina</td>\n",
       "      <td>female</td>\n",
       "      <td>26.0</td>\n",
       "      <td>0</td>\n",
       "      <td>0</td>\n",
       "      <td>STON/O2. 3101282</td>\n",
       "      <td>7.9250</td>\n",
       "      <td>S</td>\n",
       "    </tr>\n",
       "    <tr>\n",
       "      <th>3</th>\n",
       "      <td>4</td>\n",
       "      <td>1</td>\n",
       "      <td>1</td>\n",
       "      <td>Futrelle, Mrs. Jacques Heath (Lily May Peel)</td>\n",
       "      <td>female</td>\n",
       "      <td>35.0</td>\n",
       "      <td>1</td>\n",
       "      <td>0</td>\n",
       "      <td>113803</td>\n",
       "      <td>53.1000</td>\n",
       "      <td>S</td>\n",
       "    </tr>\n",
       "    <tr>\n",
       "      <th>4</th>\n",
       "      <td>5</td>\n",
       "      <td>0</td>\n",
       "      <td>3</td>\n",
       "      <td>Allen, Mr. William Henry</td>\n",
       "      <td>male</td>\n",
       "      <td>35.0</td>\n",
       "      <td>0</td>\n",
       "      <td>0</td>\n",
       "      <td>373450</td>\n",
       "      <td>8.0500</td>\n",
       "      <td>S</td>\n",
       "    </tr>\n",
       "  </tbody>\n",
       "</table>\n",
       "</div>"
      ],
      "text/plain": [
       "   PassengerId  Survived  Pclass  \\\n",
       "0            1         0       3   \n",
       "1            2         1       1   \n",
       "2            3         1       3   \n",
       "3            4         1       1   \n",
       "4            5         0       3   \n",
       "\n",
       "                                                Name     Sex   Age  SibSp  \\\n",
       "0                            Braund, Mr. Owen Harris    male  22.0      1   \n",
       "1  Cumings, Mrs. John Bradley (Florence Briggs Th...  female  38.0      1   \n",
       "2                             Heikkinen, Miss. Laina  female  26.0      0   \n",
       "3       Futrelle, Mrs. Jacques Heath (Lily May Peel)  female  35.0      1   \n",
       "4                           Allen, Mr. William Henry    male  35.0      0   \n",
       "\n",
       "   Parch            Ticket     Fare Embarked  \n",
       "0      0         A/5 21171   7.2500        S  \n",
       "1      0          PC 17599  71.2833        C  \n",
       "2      0  STON/O2. 3101282   7.9250        S  \n",
       "3      0            113803  53.1000        S  \n",
       "4      0            373450   8.0500        S  "
      ]
     },
     "execution_count": 11,
     "metadata": {},
     "output_type": "execute_result"
    }
   ],
   "source": [
    "df.head()"
   ]
  },
  {
   "cell_type": "code",
   "execution_count": 12,
   "id": "a46d0bb1",
   "metadata": {},
   "outputs": [
    {
     "data": {
      "text/plain": [
       "24.00    30\n",
       "22.00    27\n",
       "18.00    26\n",
       "19.00    25\n",
       "28.00    25\n",
       "         ..\n",
       "36.50     1\n",
       "55.50     1\n",
       "0.92      1\n",
       "23.50     1\n",
       "74.00     1\n",
       "Name: Age, Length: 88, dtype: int64"
      ]
     },
     "execution_count": 12,
     "metadata": {},
     "output_type": "execute_result"
    }
   ],
   "source": [
    "df['Age'].value_counts()"
   ]
  },
  {
   "cell_type": "code",
   "execution_count": 13,
   "id": "d3f3fb22",
   "metadata": {},
   "outputs": [
    {
     "data": {
      "text/plain": [
       "29"
      ]
     },
     "execution_count": 13,
     "metadata": {},
     "output_type": "execute_result"
    }
   ],
   "source": [
    "int(df['Age'].mean())"
   ]
  },
  {
   "cell_type": "code",
   "execution_count": 14,
   "id": "b6913e17",
   "metadata": {},
   "outputs": [],
   "source": [
    "df=df.fillna(int(df['Age'].mean()))"
   ]
  },
  {
   "cell_type": "code",
   "execution_count": 15,
   "id": "6d7c76c1",
   "metadata": {},
   "outputs": [
    {
     "data": {
      "text/plain": [
       "PassengerId    0\n",
       "Survived       0\n",
       "Pclass         0\n",
       "Name           0\n",
       "Sex            0\n",
       "Age            0\n",
       "SibSp          0\n",
       "Parch          0\n",
       "Ticket         0\n",
       "Fare           0\n",
       "Embarked       0\n",
       "dtype: int64"
      ]
     },
     "execution_count": 15,
     "metadata": {},
     "output_type": "execute_result"
    }
   ],
   "source": [
    "df.isna().sum()"
   ]
  },
  {
   "cell_type": "markdown",
   "id": "ea551847",
   "metadata": {},
   "source": [
    "as of now we have either filled the NAN values with mean age i.e. 29 or else dropped the column with Cabin which has more null values, SO as such NO NULL VALUES IN THE DF"
   ]
  },
  {
   "cell_type": "code",
   "execution_count": 16,
   "id": "544b7a3f",
   "metadata": {},
   "outputs": [
    {
     "name": "stderr",
     "output_type": "stream",
     "text": [
      "C:\\ProgramData\\Anaconda3\\lib\\site-packages\\seaborn\\distributions.py:2619: FutureWarning: `distplot` is a deprecated function and will be removed in a future version. Please adapt your code to use either `displot` (a figure-level function with similar flexibility) or `histplot` (an axes-level function for histograms).\n",
      "  warnings.warn(msg, FutureWarning)\n"
     ]
    },
    {
     "data": {
      "text/plain": [
       "<AxesSubplot:xlabel='Survived', ylabel='Density'>"
      ]
     },
     "execution_count": 16,
     "metadata": {},
     "output_type": "execute_result"
    },
    {
     "data": {
      "image/png": "[encoded data removed]",
      "text/plain": [
       "<Figure size 432x288 with 1 Axes>"
      ]
     },
     "metadata": {
      "needs_background": "light"
     },
     "output_type": "display_data"
    }
   ],
   "source": [
    "sns.distplot(df.Survived)"
   ]
  },
  {
   "cell_type": "markdown",
   "id": "76a187ef",
   "metadata": {},
   "source": [
    "density of people who died is more than the people who survived"
   ]
  },
  {
   "cell_type": "code",
   "execution_count": 17,
   "id": "58a29a92",
   "metadata": {},
   "outputs": [
    {
     "data": {
      "text/plain": [
       "<AxesSubplot:>"
      ]
     },
     "execution_count": 17,
     "metadata": {},
     "output_type": "execute_result"
    },
    {
     "data": {
      "image/png": "[encoded data removed]",
      "text/plain": [
       "<Figure size 432x288 with 1 Axes>"
      ]
     },
     "metadata": {
      "needs_background": "light"
     },
     "output_type": "display_data"
    }
   ],
   "source": [
    "embrak=df['Embarked'].value_counts(ascending=True)\n",
    "embrak.plot(kind='barh')"
   ]
  },
  {
   "cell_type": "code",
   "execution_count": 18,
   "id": "f2c009de",
   "metadata": {},
   "outputs": [
    {
     "data": {
      "text/plain": [
       "count      4.000000\n",
       "mean     222.750000\n",
       "std      288.919106\n",
       "min        2.000000\n",
       "25%       58.250000\n",
       "50%      122.500000\n",
       "75%      287.000000\n",
       "max      644.000000\n",
       "Name: Embarked, dtype: float64"
      ]
     },
     "execution_count": 18,
     "metadata": {},
     "output_type": "execute_result"
    }
   ],
   "source": [
    "embrak.describe()"
   ]
  },
  {
   "cell_type": "code",
   "execution_count": 19,
   "id": "58bf2921",
   "metadata": {},
   "outputs": [
    {
     "data": {
      "image/png": "[encoded data removed]",
      "text/plain": [
       "<Figure size 1008x360 with 3 Axes>"
      ]
     },
     "metadata": {
      "needs_background": "light"
     },
     "output_type": "display_data"
    }
   ],
   "source": [
    "fig,axes=plt.subplots(nrows=1,ncols=3, figsize=(14,5))\n",
    "\n",
    "\n",
    "fn =['Pclass','SibSp','Parch']\n",
    "colours = ['red','blue','green']\n",
    "     \n",
    "for idx,feature_name,c in zip(range(3),fn,colours):\n",
    "    ax=axes[idx]\n",
    "    df.groupby(feature_name).Survived.mean().sort_values(ascending=True).plot(kind='barh',color=c,ax=ax)\n",
    "    ax.set_title(f\"Average price for {feature_name}\")\n",
    "    ax.set_ylabel(\"Average Survived\")\n",
    "    ax.tick_params(axis = 'x')\n",
    "     \n",
    "plt.tight_layout()"
   ]
  },
  {
   "cell_type": "markdown",
   "id": "c9fa7f8e",
   "metadata": {},
   "source": [
    "    observations:\n",
    "    1. class 1 people survived more than class 2 and class 3 \n",
    "    2. siblings/spouse having 1 had survived more than other scenarios\n",
    "    3. in terms of parents and childs (parch) if they are 3 or 1 or 2, are most likely to be survived than 0 and 5"
   ]
  },
  {
   "cell_type": "code",
   "execution_count": 20,
   "id": "4c47f729",
   "metadata": {},
   "outputs": [
    {
     "data": {
      "text/plain": [
       "array([  0.    ,   4.0125,   5.    ,   6.2375,   6.4375,   6.45  ,\n",
       "         6.4958,   6.75  ,   6.8583,   6.95  ,   6.975 ,   7.0458,\n",
       "         7.05  ,   7.0542,   7.125 ,   7.1417,   7.225 ,   7.2292,\n",
       "         7.25  ,   7.3125,   7.4958,   7.5208,   7.55  ,   7.6292,\n",
       "         7.65  ,   7.725 ,   7.7292,   7.7333,   7.7375,   7.7417,\n",
       "         7.75  ,   7.775 ,   7.7875,   7.7958,   7.8   ,   7.8292,\n",
       "         7.8542,   7.875 ,   7.8792,   7.8875,   7.8958,   7.925 ,\n",
       "         8.0292,   8.05  ,   8.1125,   8.1375,   8.1583,   8.3   ,\n",
       "         8.3625,   8.4042,   8.4333,   8.4583,   8.5167,   8.6542,\n",
       "         8.6625,   8.6833,   8.7125,   8.85  ,   9.    ,   9.2167,\n",
       "         9.225 ,   9.35  ,   9.475 ,   9.4833,   9.5   ,   9.5875,\n",
       "         9.825 ,   9.8375,   9.8417,   9.8458,  10.1708,  10.4625,\n",
       "        10.5   ,  10.5167,  11.1333,  11.2417,  11.5   ,  12.    ,\n",
       "        12.275 ,  12.2875,  12.35  ,  12.475 ,  12.525 ,  12.65  ,\n",
       "        12.875 ,  13.    ,  13.4167,  13.5   ,  13.7917,  13.8583,\n",
       "        13.8625,  14.    ,  14.1083,  14.4   ,  14.4542,  14.4583,\n",
       "        14.5   ,  15.    ,  15.0458,  15.05  ,  15.1   ,  15.2458,\n",
       "        15.5   ,  15.55  ,  15.7417,  15.75  ,  15.85  ,  15.9   ,\n",
       "        16.    ,  16.1   ,  16.7   ,  17.4   ,  17.8   ,  18.    ,\n",
       "        18.75  ,  18.7875,  19.2583,  19.5   ,  19.9667,  20.2125,\n",
       "        20.25  ,  20.525 ,  20.575 ,  21.    ,  21.075 ,  21.6792,\n",
       "        22.025 ,  22.3583,  22.525 ,  23.    ,  23.25  ,  23.45  ,\n",
       "        24.    ,  24.15  ,  25.4667,  25.5875,  25.925 ,  25.9292,\n",
       "        26.    ,  26.25  ,  26.2833,  26.2875,  26.3875,  26.55  ,\n",
       "        27.    ,  27.7208,  27.75  ,  27.9   ,  28.5   ,  28.7125,\n",
       "        29.    ,  29.125 ,  29.7   ,  30.    ,  30.0708,  30.5   ,\n",
       "        30.6958,  31.    ,  31.275 ,  31.3875,  32.3208,  32.5   ,\n",
       "        33.    ,  33.5   ,  34.0208,  34.375 ,  34.6542,  35.    ,\n",
       "        35.5   ,  36.75  ,  37.0042,  38.5   ,  39.    ,  39.4   ,\n",
       "        39.6   ,  39.6875,  40.125 ,  41.5792,  42.4   ,  46.9   ,\n",
       "        47.1   ,  49.5   ,  49.5042,  50.    ,  50.4958,  51.4792,\n",
       "        51.8625,  52.    ,  52.5542,  53.1   ,  55.    ,  55.4417,\n",
       "        55.9   ,  56.4958,  56.9292,  57.    ,  57.9792,  59.4   ,\n",
       "        61.175 ,  61.3792,  61.9792,  63.3583,  65.    ,  66.6   ,\n",
       "        69.3   ,  69.55  ,  71.    ,  71.2833,  73.5   ,  75.25  ,\n",
       "        76.2917,  76.7292,  77.2875,  77.9583,  78.2667,  78.85  ,\n",
       "        79.2   ,  79.65  ,  80.    ,  81.8583,  82.1708,  83.1583,\n",
       "        83.475 ,  86.5   ,  89.1042,  90.    ,  91.0792,  93.5   ,\n",
       "       106.425 , 108.9   , 110.8833, 113.275 , 120.    , 133.65  ,\n",
       "       134.5   , 135.6333, 146.5208, 151.55  , 153.4625, 164.8667,\n",
       "       211.3375, 211.5   , 221.7792, 227.525 , 247.5208, 262.375 ,\n",
       "       263.    , 512.3292])"
      ]
     },
     "execution_count": 20,
     "metadata": {},
     "output_type": "execute_result"
    }
   ],
   "source": [
    "df['Fare'].sort_values().unique()"
   ]
  },
  {
   "cell_type": "code",
   "execution_count": 21,
   "id": "d888cbdc",
   "metadata": {},
   "outputs": [
    {
     "data": {
      "text/plain": [
       "8.0500     43\n",
       "13.0000    42\n",
       "7.8958     38\n",
       "7.7500     34\n",
       "26.0000    31\n",
       "           ..\n",
       "35.0000     1\n",
       "28.5000     1\n",
       "6.2375      1\n",
       "14.0000     1\n",
       "10.5167     1\n",
       "Name: Fare, Length: 248, dtype: int64"
      ]
     },
     "execution_count": 21,
     "metadata": {},
     "output_type": "execute_result"
    }
   ],
   "source": [
    "df['Fare'].value_counts()"
   ]
  },
  {
   "cell_type": "markdown",
   "id": "e8fb7d62",
   "metadata": {},
   "source": [
    "lets split Fare into 3 categories rather than several ones, what will do min=0-13.85 mid=13.85-47 max=47-512 accordigwise will allign if the fare price into said category will move into respective bucket"
   ]
  },
  {
   "cell_type": "code",
   "execution_count": 22,
   "id": "7c2cfa81",
   "metadata": {},
   "outputs": [],
   "source": [
    "bins=np.linspace(min(df['Fare']),max(df['Fare']),4)"
   ]
  },
  {
   "cell_type": "code",
   "execution_count": 23,
   "id": "22c2ba86",
   "metadata": {},
   "outputs": [],
   "source": [
    "group_names=['low','medium','high']"
   ]
  },
  {
   "cell_type": "code",
   "execution_count": 24,
   "id": "372e1012",
   "metadata": {},
   "outputs": [],
   "source": [
    "df['Farebinned']=pd.cut(df['Fare'],bins,labels=group_names,include_lowest=True)"
   ]
  },
  {
   "cell_type": "code",
   "execution_count": 25,
   "id": "e28db106",
   "metadata": {},
   "outputs": [
    {
     "data": {
      "text/plain": [
       "low       871\n",
       "medium     17\n",
       "high        3\n",
       "Name: Farebinned, dtype: int64"
      ]
     },
     "execution_count": 25,
     "metadata": {},
     "output_type": "execute_result"
    }
   ],
   "source": [
    "df['Farebinned'].value_counts()"
   ]
  },
  {
   "cell_type": "code",
   "execution_count": 26,
   "id": "9c382928",
   "metadata": {},
   "outputs": [
    {
     "data": {
      "text/plain": [
       "array([  0.    , 170.7764, 341.5528, 512.3292])"
      ]
     },
     "execution_count": 26,
     "metadata": {},
     "output_type": "execute_result"
    }
   ],
   "source": [
    "bins"
   ]
  },
  {
   "cell_type": "code",
   "execution_count": 27,
   "id": "3c2d19e7",
   "metadata": {},
   "outputs": [],
   "source": [
    "bins_hardcoded=[0.0,14.0,47.0,512.0]"
   ]
  },
  {
   "cell_type": "code",
   "execution_count": 28,
   "id": "075b5b90",
   "metadata": {},
   "outputs": [],
   "source": [
    "df['Farebinned_1']=pd.cut(df['Fare'],bins_hardcoded,labels=group_names,include_lowest=True)"
   ]
  },
  {
   "cell_type": "code",
   "execution_count": 29,
   "id": "4595ee05",
   "metadata": {},
   "outputs": [
    {
     "data": {
      "text/plain": [
       "low       437\n",
       "medium    289\n",
       "high      162\n",
       "Name: Farebinned_1, dtype: int64"
      ]
     },
     "execution_count": 29,
     "metadata": {},
     "output_type": "execute_result"
    }
   ],
   "source": [
    "df['Farebinned_1'].value_counts()"
   ]
  },
  {
   "cell_type": "code",
   "execution_count": 30,
   "id": "7ae3b8f5",
   "metadata": {},
   "outputs": [
    {
     "data": {
      "text/html": [
       "<div>\n",
       "<style scoped>\n",
       "    .dataframe tbody tr th:only-of-type {\n",
       "        vertical-align: middle;\n",
       "    }\n",
       "\n",
       "    .dataframe tbody tr th {\n",
       "        vertical-align: top;\n",
       "    }\n",
       "\n",
       "    .dataframe thead th {\n",
       "        text-align: right;\n",
       "    }\n",
       "</style>\n",
       "<table border=\"1\" class=\"dataframe\">\n",
       "  <thead>\n",
       "    <tr style=\"text-align: right;\">\n",
       "      <th></th>\n",
       "      <th>PassengerId</th>\n",
       "      <th>Survived</th>\n",
       "      <th>Pclass</th>\n",
       "      <th>Name</th>\n",
       "      <th>Sex</th>\n",
       "      <th>Age</th>\n",
       "      <th>SibSp</th>\n",
       "      <th>Parch</th>\n",
       "      <th>Ticket</th>\n",
       "      <th>Fare</th>\n",
       "      <th>Embarked</th>\n",
       "      <th>Farebinned</th>\n",
       "      <th>Farebinned_1</th>\n",
       "    </tr>\n",
       "  </thead>\n",
       "  <tbody>\n",
       "    <tr>\n",
       "      <th>0</th>\n",
       "      <td>1</td>\n",
       "      <td>0</td>\n",
       "      <td>3</td>\n",
       "      <td>Braund, Mr. Owen Harris</td>\n",
       "      <td>male</td>\n",
       "      <td>22.0</td>\n",
       "      <td>1</td>\n",
       "      <td>0</td>\n",
       "      <td>A/5 21171</td>\n",
       "      <td>7.2500</td>\n",
       "      <td>S</td>\n",
       "      <td>low</td>\n",
       "      <td>low</td>\n",
       "    </tr>\n",
       "    <tr>\n",
       "      <th>1</th>\n",
       "      <td>2</td>\n",
       "      <td>1</td>\n",
       "      <td>1</td>\n",
       "      <td>Cumings, Mrs. John Bradley (Florence Briggs Th...</td>\n",
       "      <td>female</td>\n",
       "      <td>38.0</td>\n",
       "      <td>1</td>\n",
       "      <td>0</td>\n",
       "      <td>PC 17599</td>\n",
       "      <td>71.2833</td>\n",
       "      <td>C</td>\n",
       "      <td>low</td>\n",
       "      <td>high</td>\n",
       "    </tr>\n",
       "    <tr>\n",
       "      <th>2</th>\n",
       "      <td>3</td>\n",
       "      <td>1</td>\n",
       "      <td>3</td>\n",
       "      <td>Heikkinen, Miss. Laina</td>\n",
       "      <td>female</td>\n",
       "      <td>26.0</td>\n",
       "      <td>0</td>\n",
       "      <td>0</td>\n",
       "      <td>STON/O2. 3101282</td>\n",
       "      <td>7.9250</td>\n",
       "      <td>S</td>\n",
       "      <td>low</td>\n",
       "      <td>low</td>\n",
       "    </tr>\n",
       "    <tr>\n",
       "      <th>3</th>\n",
       "      <td>4</td>\n",
       "      <td>1</td>\n",
       "      <td>1</td>\n",
       "      <td>Futrelle, Mrs. Jacques Heath (Lily May Peel)</td>\n",
       "      <td>female</td>\n",
       "      <td>35.0</td>\n",
       "      <td>1</td>\n",
       "      <td>0</td>\n",
       "      <td>113803</td>\n",
       "      <td>53.1000</td>\n",
       "      <td>S</td>\n",
       "      <td>low</td>\n",
       "      <td>high</td>\n",
       "    </tr>\n",
       "    <tr>\n",
       "      <th>4</th>\n",
       "      <td>5</td>\n",
       "      <td>0</td>\n",
       "      <td>3</td>\n",
       "      <td>Allen, Mr. William Henry</td>\n",
       "      <td>male</td>\n",
       "      <td>35.0</td>\n",
       "      <td>0</td>\n",
       "      <td>0</td>\n",
       "      <td>373450</td>\n",
       "      <td>8.0500</td>\n",
       "      <td>S</td>\n",
       "      <td>low</td>\n",
       "      <td>low</td>\n",
       "    </tr>\n",
       "  </tbody>\n",
       "</table>\n",
       "</div>"
      ],
      "text/plain": [
       "   PassengerId  Survived  Pclass  \\\n",
       "0            1         0       3   \n",
       "1            2         1       1   \n",
       "2            3         1       3   \n",
       "3            4         1       1   \n",
       "4            5         0       3   \n",
       "\n",
       "                                                Name     Sex   Age  SibSp  \\\n",
       "0                            Braund, Mr. Owen Harris    male  22.0      1   \n",
       "1  Cumings, Mrs. John Bradley (Florence Briggs Th...  female  38.0      1   \n",
       "2                             Heikkinen, Miss. Laina  female  26.0      0   \n",
       "3       Futrelle, Mrs. Jacques Heath (Lily May Peel)  female  35.0      1   \n",
       "4                           Allen, Mr. William Henry    male  35.0      0   \n",
       "\n",
       "   Parch            Ticket     Fare Embarked Farebinned Farebinned_1  \n",
       "0      0         A/5 21171   7.2500        S        low          low  \n",
       "1      0          PC 17599  71.2833        C        low         high  \n",
       "2      0  STON/O2. 3101282   7.9250        S        low          low  \n",
       "3      0            113803  53.1000        S        low         high  \n",
       "4      0            373450   8.0500        S        low          low  "
      ]
     },
     "execution_count": 30,
     "metadata": {},
     "output_type": "execute_result"
    }
   ],
   "source": [
    "df.head()"
   ]
  },
  {
   "cell_type": "code",
   "execution_count": 31,
   "id": "31b7c494",
   "metadata": {},
   "outputs": [],
   "source": [
    "df.drop(['PassengerId','Name','Ticket','Fare','Farebinned'],axis=1,inplace=True)"
   ]
  },
  {
   "cell_type": "code",
   "execution_count": 32,
   "id": "6f0873e5",
   "metadata": {},
   "outputs": [
    {
     "data": {
      "text/html": [
       "<div>\n",
       "<style scoped>\n",
       "    .dataframe tbody tr th:only-of-type {\n",
       "        vertical-align: middle;\n",
       "    }\n",
       "\n",
       "    .dataframe tbody tr th {\n",
       "        vertical-align: top;\n",
       "    }\n",
       "\n",
       "    .dataframe thead th {\n",
       "        text-align: right;\n",
       "    }\n",
       "</style>\n",
       "<table border=\"1\" class=\"dataframe\">\n",
       "  <thead>\n",
       "    <tr style=\"text-align: right;\">\n",
       "      <th></th>\n",
       "      <th>Survived</th>\n",
       "      <th>Pclass</th>\n",
       "      <th>Sex</th>\n",
       "      <th>Age</th>\n",
       "      <th>SibSp</th>\n",
       "      <th>Parch</th>\n",
       "      <th>Embarked</th>\n",
       "      <th>Farebinned_1</th>\n",
       "    </tr>\n",
       "  </thead>\n",
       "  <tbody>\n",
       "    <tr>\n",
       "      <th>0</th>\n",
       "      <td>0</td>\n",
       "      <td>3</td>\n",
       "      <td>male</td>\n",
       "      <td>22.0</td>\n",
       "      <td>1</td>\n",
       "      <td>0</td>\n",
       "      <td>S</td>\n",
       "      <td>low</td>\n",
       "    </tr>\n",
       "    <tr>\n",
       "      <th>1</th>\n",
       "      <td>1</td>\n",
       "      <td>1</td>\n",
       "      <td>female</td>\n",
       "      <td>38.0</td>\n",
       "      <td>1</td>\n",
       "      <td>0</td>\n",
       "      <td>C</td>\n",
       "      <td>high</td>\n",
       "    </tr>\n",
       "    <tr>\n",
       "      <th>2</th>\n",
       "      <td>1</td>\n",
       "      <td>3</td>\n",
       "      <td>female</td>\n",
       "      <td>26.0</td>\n",
       "      <td>0</td>\n",
       "      <td>0</td>\n",
       "      <td>S</td>\n",
       "      <td>low</td>\n",
       "    </tr>\n",
       "    <tr>\n",
       "      <th>3</th>\n",
       "      <td>1</td>\n",
       "      <td>1</td>\n",
       "      <td>female</td>\n",
       "      <td>35.0</td>\n",
       "      <td>1</td>\n",
       "      <td>0</td>\n",
       "      <td>S</td>\n",
       "      <td>high</td>\n",
       "    </tr>\n",
       "    <tr>\n",
       "      <th>4</th>\n",
       "      <td>0</td>\n",
       "      <td>3</td>\n",
       "      <td>male</td>\n",
       "      <td>35.0</td>\n",
       "      <td>0</td>\n",
       "      <td>0</td>\n",
       "      <td>S</td>\n",
       "      <td>low</td>\n",
       "    </tr>\n",
       "  </tbody>\n",
       "</table>\n",
       "</div>"
      ],
      "text/plain": [
       "   Survived  Pclass     Sex   Age  SibSp  Parch Embarked Farebinned_1\n",
       "0         0       3    male  22.0      1      0        S          low\n",
       "1         1       1  female  38.0      1      0        C         high\n",
       "2         1       3  female  26.0      0      0        S          low\n",
       "3         1       1  female  35.0      1      0        S         high\n",
       "4         0       3    male  35.0      0      0        S          low"
      ]
     },
     "execution_count": 32,
     "metadata": {},
     "output_type": "execute_result"
    }
   ],
   "source": [
    "df.head()"
   ]
  },
  {
   "cell_type": "code",
   "execution_count": 33,
   "id": "01be0daf",
   "metadata": {},
   "outputs": [
    {
     "data": {
      "text/html": [
       "<div>\n",
       "<style scoped>\n",
       "    .dataframe tbody tr th:only-of-type {\n",
       "        vertical-align: middle;\n",
       "    }\n",
       "\n",
       "    .dataframe tbody tr th {\n",
       "        vertical-align: top;\n",
       "    }\n",
       "\n",
       "    .dataframe thead th {\n",
       "        text-align: right;\n",
       "    }\n",
       "</style>\n",
       "<table border=\"1\" class=\"dataframe\">\n",
       "  <thead>\n",
       "    <tr style=\"text-align: right;\">\n",
       "      <th></th>\n",
       "      <th>Sex_female</th>\n",
       "      <th>Sex_male</th>\n",
       "    </tr>\n",
       "  </thead>\n",
       "  <tbody>\n",
       "    <tr>\n",
       "      <th>0</th>\n",
       "      <td>0</td>\n",
       "      <td>1</td>\n",
       "    </tr>\n",
       "    <tr>\n",
       "      <th>1</th>\n",
       "      <td>1</td>\n",
       "      <td>0</td>\n",
       "    </tr>\n",
       "    <tr>\n",
       "      <th>2</th>\n",
       "      <td>1</td>\n",
       "      <td>0</td>\n",
       "    </tr>\n",
       "    <tr>\n",
       "      <th>3</th>\n",
       "      <td>1</td>\n",
       "      <td>0</td>\n",
       "    </tr>\n",
       "    <tr>\n",
       "      <th>4</th>\n",
       "      <td>0</td>\n",
       "      <td>1</td>\n",
       "    </tr>\n",
       "  </tbody>\n",
       "</table>\n",
       "</div>"
      ],
      "text/plain": [
       "   Sex_female  Sex_male\n",
       "0           0         1\n",
       "1           1         0\n",
       "2           1         0\n",
       "3           1         0\n",
       "4           0         1"
      ]
     },
     "execution_count": 33,
     "metadata": {},
     "output_type": "execute_result"
    }
   ],
   "source": [
    "pd.get_dummies(df[['Sex']]).head()"
   ]
  },
  {
   "cell_type": "code",
   "execution_count": 34,
   "id": "4910cb8d",
   "metadata": {},
   "outputs": [
    {
     "data": {
      "text/html": [
       "<div>\n",
       "<style scoped>\n",
       "    .dataframe tbody tr th:only-of-type {\n",
       "        vertical-align: middle;\n",
       "    }\n",
       "\n",
       "    .dataframe tbody tr th {\n",
       "        vertical-align: top;\n",
       "    }\n",
       "\n",
       "    .dataframe thead th {\n",
       "        text-align: right;\n",
       "    }\n",
       "</style>\n",
       "<table border=\"1\" class=\"dataframe\">\n",
       "  <thead>\n",
       "    <tr style=\"text-align: right;\">\n",
       "      <th></th>\n",
       "      <th>Survived</th>\n",
       "      <th>Pclass</th>\n",
       "      <th>Sex</th>\n",
       "      <th>Age</th>\n",
       "      <th>SibSp</th>\n",
       "      <th>Parch</th>\n",
       "      <th>Embarked</th>\n",
       "      <th>Farebinned_1</th>\n",
       "    </tr>\n",
       "  </thead>\n",
       "  <tbody>\n",
       "    <tr>\n",
       "      <th>0</th>\n",
       "      <td>0</td>\n",
       "      <td>3</td>\n",
       "      <td>male</td>\n",
       "      <td>22.0</td>\n",
       "      <td>1</td>\n",
       "      <td>0</td>\n",
       "      <td>S</td>\n",
       "      <td>low</td>\n",
       "    </tr>\n",
       "    <tr>\n",
       "      <th>1</th>\n",
       "      <td>1</td>\n",
       "      <td>1</td>\n",
       "      <td>female</td>\n",
       "      <td>38.0</td>\n",
       "      <td>1</td>\n",
       "      <td>0</td>\n",
       "      <td>C</td>\n",
       "      <td>high</td>\n",
       "    </tr>\n",
       "    <tr>\n",
       "      <th>2</th>\n",
       "      <td>1</td>\n",
       "      <td>3</td>\n",
       "      <td>female</td>\n",
       "      <td>26.0</td>\n",
       "      <td>0</td>\n",
       "      <td>0</td>\n",
       "      <td>S</td>\n",
       "      <td>low</td>\n",
       "    </tr>\n",
       "    <tr>\n",
       "      <th>3</th>\n",
       "      <td>1</td>\n",
       "      <td>1</td>\n",
       "      <td>female</td>\n",
       "      <td>35.0</td>\n",
       "      <td>1</td>\n",
       "      <td>0</td>\n",
       "      <td>S</td>\n",
       "      <td>high</td>\n",
       "    </tr>\n",
       "    <tr>\n",
       "      <th>4</th>\n",
       "      <td>0</td>\n",
       "      <td>3</td>\n",
       "      <td>male</td>\n",
       "      <td>35.0</td>\n",
       "      <td>0</td>\n",
       "      <td>0</td>\n",
       "      <td>S</td>\n",
       "      <td>low</td>\n",
       "    </tr>\n",
       "  </tbody>\n",
       "</table>\n",
       "</div>"
      ],
      "text/plain": [
       "   Survived  Pclass     Sex   Age  SibSp  Parch Embarked Farebinned_1\n",
       "0         0       3    male  22.0      1      0        S          low\n",
       "1         1       1  female  38.0      1      0        C         high\n",
       "2         1       3  female  26.0      0      0        S          low\n",
       "3         1       1  female  35.0      1      0        S         high\n",
       "4         0       3    male  35.0      0      0        S          low"
      ]
     },
     "execution_count": 34,
     "metadata": {},
     "output_type": "execute_result"
    }
   ],
   "source": [
    "df.head()"
   ]
  },
  {
   "cell_type": "code",
   "execution_count": 35,
   "id": "8727bbcb",
   "metadata": {},
   "outputs": [],
   "source": [
    "df = pd.get_dummies(df)"
   ]
  },
  {
   "cell_type": "code",
   "execution_count": 36,
   "id": "87752fb7",
   "metadata": {},
   "outputs": [
    {
     "data": {
      "text/html": [
       "<div>\n",
       "<style scoped>\n",
       "    .dataframe tbody tr th:only-of-type {\n",
       "        vertical-align: middle;\n",
       "    }\n",
       "\n",
       "    .dataframe tbody tr th {\n",
       "        vertical-align: top;\n",
       "    }\n",
       "\n",
       "    .dataframe thead th {\n",
       "        text-align: right;\n",
       "    }\n",
       "</style>\n",
       "<table border=\"1\" class=\"dataframe\">\n",
       "  <thead>\n",
       "    <tr style=\"text-align: right;\">\n",
       "      <th></th>\n",
       "      <th>Survived</th>\n",
       "      <th>Pclass</th>\n",
       "      <th>Age</th>\n",
       "      <th>SibSp</th>\n",
       "      <th>Parch</th>\n",
       "      <th>Sex_female</th>\n",
       "      <th>Sex_male</th>\n",
       "      <th>Embarked_29</th>\n",
       "      <th>Embarked_C</th>\n",
       "      <th>Embarked_Q</th>\n",
       "      <th>Embarked_S</th>\n",
       "      <th>Farebinned_1_low</th>\n",
       "      <th>Farebinned_1_medium</th>\n",
       "      <th>Farebinned_1_high</th>\n",
       "    </tr>\n",
       "  </thead>\n",
       "  <tbody>\n",
       "    <tr>\n",
       "      <th>0</th>\n",
       "      <td>0</td>\n",
       "      <td>3</td>\n",
       "      <td>22.0</td>\n",
       "      <td>1</td>\n",
       "      <td>0</td>\n",
       "      <td>0</td>\n",
       "      <td>1</td>\n",
       "      <td>0</td>\n",
       "      <td>0</td>\n",
       "      <td>0</td>\n",
       "      <td>1</td>\n",
       "      <td>1</td>\n",
       "      <td>0</td>\n",
       "      <td>0</td>\n",
       "    </tr>\n",
       "    <tr>\n",
       "      <th>1</th>\n",
       "      <td>1</td>\n",
       "      <td>1</td>\n",
       "      <td>38.0</td>\n",
       "      <td>1</td>\n",
       "      <td>0</td>\n",
       "      <td>1</td>\n",
       "      <td>0</td>\n",
       "      <td>0</td>\n",
       "      <td>1</td>\n",
       "      <td>0</td>\n",
       "      <td>0</td>\n",
       "      <td>0</td>\n",
       "      <td>0</td>\n",
       "      <td>1</td>\n",
       "    </tr>\n",
       "    <tr>\n",
       "      <th>2</th>\n",
       "      <td>1</td>\n",
       "      <td>3</td>\n",
       "      <td>26.0</td>\n",
       "      <td>0</td>\n",
       "      <td>0</td>\n",
       "      <td>1</td>\n",
       "      <td>0</td>\n",
       "      <td>0</td>\n",
       "      <td>0</td>\n",
       "      <td>0</td>\n",
       "      <td>1</td>\n",
       "      <td>1</td>\n",
       "      <td>0</td>\n",
       "      <td>0</td>\n",
       "    </tr>\n",
       "    <tr>\n",
       "      <th>3</th>\n",
       "      <td>1</td>\n",
       "      <td>1</td>\n",
       "      <td>35.0</td>\n",
       "      <td>1</td>\n",
       "      <td>0</td>\n",
       "      <td>1</td>\n",
       "      <td>0</td>\n",
       "      <td>0</td>\n",
       "      <td>0</td>\n",
       "      <td>0</td>\n",
       "      <td>1</td>\n",
       "      <td>0</td>\n",
       "      <td>0</td>\n",
       "      <td>1</td>\n",
       "    </tr>\n",
       "    <tr>\n",
       "      <th>4</th>\n",
       "      <td>0</td>\n",
       "      <td>3</td>\n",
       "      <td>35.0</td>\n",
       "      <td>0</td>\n",
       "      <td>0</td>\n",
       "      <td>0</td>\n",
       "      <td>1</td>\n",
       "      <td>0</td>\n",
       "      <td>0</td>\n",
       "      <td>0</td>\n",
       "      <td>1</td>\n",
       "      <td>1</td>\n",
       "      <td>0</td>\n",
       "      <td>0</td>\n",
       "    </tr>\n",
       "  </tbody>\n",
       "</table>\n",
       "</div>"
      ],
      "text/plain": [
       "   Survived  Pclass   Age  SibSp  Parch  Sex_female  Sex_male  Embarked_29  \\\n",
       "0         0       3  22.0      1      0           0         1            0   \n",
       "1         1       1  38.0      1      0           1         0            0   \n",
       "2         1       3  26.0      0      0           1         0            0   \n",
       "3         1       1  35.0      1      0           1         0            0   \n",
       "4         0       3  35.0      0      0           0         1            0   \n",
       "\n",
       "   Embarked_C  Embarked_Q  Embarked_S  Farebinned_1_low  Farebinned_1_medium  \\\n",
       "0           0           0           1                 1                    0   \n",
       "1           1           0           0                 0                    0   \n",
       "2           0           0           1                 1                    0   \n",
       "3           0           0           1                 0                    0   \n",
       "4           0           0           1                 1                    0   \n",
       "\n",
       "   Farebinned_1_high  \n",
       "0                  0  \n",
       "1                  1  \n",
       "2                  0  \n",
       "3                  1  \n",
       "4                  0  "
      ]
     },
     "execution_count": 36,
     "metadata": {},
     "output_type": "execute_result"
    }
   ],
   "source": [
    "df.head()"
   ]
  },
  {
   "cell_type": "code",
   "execution_count": 37,
   "id": "518b3796",
   "metadata": {},
   "outputs": [
    {
     "data": {
      "text/html": [
       "<div>\n",
       "<style scoped>\n",
       "    .dataframe tbody tr th:only-of-type {\n",
       "        vertical-align: middle;\n",
       "    }\n",
       "\n",
       "    .dataframe tbody tr th {\n",
       "        vertical-align: top;\n",
       "    }\n",
       "\n",
       "    .dataframe thead th {\n",
       "        text-align: right;\n",
       "    }\n",
       "</style>\n",
       "<table border=\"1\" class=\"dataframe\">\n",
       "  <thead>\n",
       "    <tr style=\"text-align: right;\">\n",
       "      <th></th>\n",
       "      <th>Survived</th>\n",
       "      <th>Pclass</th>\n",
       "      <th>Age</th>\n",
       "      <th>SibSp</th>\n",
       "      <th>Parch</th>\n",
       "      <th>Sex_female</th>\n",
       "      <th>Sex_male</th>\n",
       "      <th>Embarked_29</th>\n",
       "      <th>Embarked_C</th>\n",
       "      <th>Embarked_Q</th>\n",
       "      <th>Embarked_S</th>\n",
       "      <th>Farebinned_1_low</th>\n",
       "      <th>Farebinned_1_medium</th>\n",
       "      <th>Farebinned_1_high</th>\n",
       "    </tr>\n",
       "  </thead>\n",
       "  <tbody>\n",
       "    <tr>\n",
       "      <th>count</th>\n",
       "      <td>891.000000</td>\n",
       "      <td>891.000000</td>\n",
       "      <td>891.000000</td>\n",
       "      <td>891.000000</td>\n",
       "      <td>891.000000</td>\n",
       "      <td>891.000000</td>\n",
       "      <td>891.000000</td>\n",
       "      <td>891.000000</td>\n",
       "      <td>891.000000</td>\n",
       "      <td>891.000000</td>\n",
       "      <td>891.000000</td>\n",
       "      <td>891.00000</td>\n",
       "      <td>891.000000</td>\n",
       "      <td>891.000000</td>\n",
       "    </tr>\n",
       "    <tr>\n",
       "      <th>mean</th>\n",
       "      <td>0.383838</td>\n",
       "      <td>2.308642</td>\n",
       "      <td>29.560236</td>\n",
       "      <td>0.523008</td>\n",
       "      <td>0.381594</td>\n",
       "      <td>0.352413</td>\n",
       "      <td>0.647587</td>\n",
       "      <td>0.002245</td>\n",
       "      <td>0.188552</td>\n",
       "      <td>0.086420</td>\n",
       "      <td>0.722783</td>\n",
       "      <td>0.49046</td>\n",
       "      <td>0.324355</td>\n",
       "      <td>0.181818</td>\n",
       "    </tr>\n",
       "    <tr>\n",
       "      <th>std</th>\n",
       "      <td>0.486592</td>\n",
       "      <td>0.836071</td>\n",
       "      <td>13.005010</td>\n",
       "      <td>1.102743</td>\n",
       "      <td>0.806057</td>\n",
       "      <td>0.477990</td>\n",
       "      <td>0.477990</td>\n",
       "      <td>0.047351</td>\n",
       "      <td>0.391372</td>\n",
       "      <td>0.281141</td>\n",
       "      <td>0.447876</td>\n",
       "      <td>0.50019</td>\n",
       "      <td>0.468396</td>\n",
       "      <td>0.385911</td>\n",
       "    </tr>\n",
       "    <tr>\n",
       "      <th>min</th>\n",
       "      <td>0.000000</td>\n",
       "      <td>1.000000</td>\n",
       "      <td>0.420000</td>\n",
       "      <td>0.000000</td>\n",
       "      <td>0.000000</td>\n",
       "      <td>0.000000</td>\n",
       "      <td>0.000000</td>\n",
       "      <td>0.000000</td>\n",
       "      <td>0.000000</td>\n",
       "      <td>0.000000</td>\n",
       "      <td>0.000000</td>\n",
       "      <td>0.00000</td>\n",
       "      <td>0.000000</td>\n",
       "      <td>0.000000</td>\n",
       "    </tr>\n",
       "    <tr>\n",
       "      <th>25%</th>\n",
       "      <td>0.000000</td>\n",
       "      <td>2.000000</td>\n",
       "      <td>22.000000</td>\n",
       "      <td>0.000000</td>\n",
       "      <td>0.000000</td>\n",
       "      <td>0.000000</td>\n",
       "      <td>0.000000</td>\n",
       "      <td>0.000000</td>\n",
       "      <td>0.000000</td>\n",
       "      <td>0.000000</td>\n",
       "      <td>0.000000</td>\n",
       "      <td>0.00000</td>\n",
       "      <td>0.000000</td>\n",
       "      <td>0.000000</td>\n",
       "    </tr>\n",
       "    <tr>\n",
       "      <th>50%</th>\n",
       "      <td>0.000000</td>\n",
       "      <td>3.000000</td>\n",
       "      <td>29.000000</td>\n",
       "      <td>0.000000</td>\n",
       "      <td>0.000000</td>\n",
       "      <td>0.000000</td>\n",
       "      <td>1.000000</td>\n",
       "      <td>0.000000</td>\n",
       "      <td>0.000000</td>\n",
       "      <td>0.000000</td>\n",
       "      <td>1.000000</td>\n",
       "      <td>0.00000</td>\n",
       "      <td>0.000000</td>\n",
       "      <td>0.000000</td>\n",
       "    </tr>\n",
       "    <tr>\n",
       "      <th>75%</th>\n",
       "      <td>1.000000</td>\n",
       "      <td>3.000000</td>\n",
       "      <td>35.000000</td>\n",
       "      <td>1.000000</td>\n",
       "      <td>0.000000</td>\n",
       "      <td>1.000000</td>\n",
       "      <td>1.000000</td>\n",
       "      <td>0.000000</td>\n",
       "      <td>0.000000</td>\n",
       "      <td>0.000000</td>\n",
       "      <td>1.000000</td>\n",
       "      <td>1.00000</td>\n",
       "      <td>1.000000</td>\n",
       "      <td>0.000000</td>\n",
       "    </tr>\n",
       "    <tr>\n",
       "      <th>max</th>\n",
       "      <td>1.000000</td>\n",
       "      <td>3.000000</td>\n",
       "      <td>80.000000</td>\n",
       "      <td>8.000000</td>\n",
       "      <td>6.000000</td>\n",
       "      <td>1.000000</td>\n",
       "      <td>1.000000</td>\n",
       "      <td>1.000000</td>\n",
       "      <td>1.000000</td>\n",
       "      <td>1.000000</td>\n",
       "      <td>1.000000</td>\n",
       "      <td>1.00000</td>\n",
       "      <td>1.000000</td>\n",
       "      <td>1.000000</td>\n",
       "    </tr>\n",
       "  </tbody>\n",
       "</table>\n",
       "</div>"
      ],
      "text/plain": [
       "         Survived      Pclass         Age       SibSp       Parch  Sex_female  \\\n",
       "count  891.000000  891.000000  891.000000  891.000000  891.000000  891.000000   \n",
       "mean     0.383838    2.308642   29.560236    0.523008    0.381594    0.352413   \n",
       "std      0.486592    0.836071   13.005010    1.102743    0.806057    0.477990   \n",
       "min      0.000000    1.000000    0.420000    0.000000    0.000000    0.000000   \n",
       "25%      0.000000    2.000000   22.000000    0.000000    0.000000    0.000000   \n",
       "50%      0.000000    3.000000   29.000000    0.000000    0.000000    0.000000   \n",
       "75%      1.000000    3.000000   35.000000    1.000000    0.000000    1.000000   \n",
       "max      1.000000    3.000000   80.000000    8.000000    6.000000    1.000000   \n",
       "\n",
       "         Sex_male  Embarked_29  Embarked_C  Embarked_Q  Embarked_S  \\\n",
       "count  891.000000   891.000000  891.000000  891.000000  891.000000   \n",
       "mean     0.647587     0.002245    0.188552    0.086420    0.722783   \n",
       "std      0.477990     0.047351    0.391372    0.281141    0.447876   \n",
       "min      0.000000     0.000000    0.000000    0.000000    0.000000   \n",
       "25%      0.000000     0.000000    0.000000    0.000000    0.000000   \n",
       "50%      1.000000     0.000000    0.000000    0.000000    1.000000   \n",
       "75%      1.000000     0.000000    0.000000    0.000000    1.000000   \n",
       "max      1.000000     1.000000    1.000000    1.000000    1.000000   \n",
       "\n",
       "       Farebinned_1_low  Farebinned_1_medium  Farebinned_1_high  \n",
       "count         891.00000           891.000000         891.000000  \n",
       "mean            0.49046             0.324355           0.181818  \n",
       "std             0.50019             0.468396           0.385911  \n",
       "min             0.00000             0.000000           0.000000  \n",
       "25%             0.00000             0.000000           0.000000  \n",
       "50%             0.00000             0.000000           0.000000  \n",
       "75%             1.00000             1.000000           0.000000  \n",
       "max             1.00000             1.000000           1.000000  "
      ]
     },
     "execution_count": 37,
     "metadata": {},
     "output_type": "execute_result"
    }
   ],
   "source": [
    "df.describe()"
   ]
  },
  {
   "cell_type": "code",
   "execution_count": 38,
   "id": "3474efa7",
   "metadata": {},
   "outputs": [
    {
     "data": {
      "text/plain": [
       "Survived                 int64\n",
       "Pclass                   int64\n",
       "Age                    float64\n",
       "SibSp                    int64\n",
       "Parch                    int64\n",
       "Sex_female               uint8\n",
       "Sex_male                 uint8\n",
       "Embarked_29              uint8\n",
       "Embarked_C               uint8\n",
       "Embarked_Q               uint8\n",
       "Embarked_S               uint8\n",
       "Farebinned_1_low         uint8\n",
       "Farebinned_1_medium      uint8\n",
       "Farebinned_1_high        uint8\n",
       "dtype: object"
      ]
     },
     "execution_count": 38,
     "metadata": {},
     "output_type": "execute_result"
    }
   ],
   "source": [
    "df.dtypes"
   ]
  },
  {
   "cell_type": "markdown",
   "id": "91c6f7c3",
   "metadata": {},
   "source": [
    "    defining X and y\n",
    "    X = Independent variable\n",
    "    y = Dependent Variable\n",
    "    In this condition our X is all the numeric columns in our data\n",
    "    y is Survived column"
   ]
  },
  {
   "cell_type": "code",
   "execution_count": 39,
   "id": "dc266ca0",
   "metadata": {},
   "outputs": [],
   "source": [
    "X = df[['Pclass','Age','SibSp','Parch','Sex_female','Sex_male','Embarked_29','Embarked_C','Embarked_Q','Embarked_S','Farebinned_1_low','Farebinned_1_medium','Farebinned_1_high']]"
   ]
  },
  {
   "cell_type": "code",
   "execution_count": 40,
   "id": "f5e71673",
   "metadata": {},
   "outputs": [
    {
     "data": {
      "text/html": [
       "<div>\n",
       "<style scoped>\n",
       "    .dataframe tbody tr th:only-of-type {\n",
       "        vertical-align: middle;\n",
       "    }\n",
       "\n",
       "    .dataframe tbody tr th {\n",
       "        vertical-align: top;\n",
       "    }\n",
       "\n",
       "    .dataframe thead th {\n",
       "        text-align: right;\n",
       "    }\n",
       "</style>\n",
       "<table border=\"1\" class=\"dataframe\">\n",
       "  <thead>\n",
       "    <tr style=\"text-align: right;\">\n",
       "      <th></th>\n",
       "      <th>Pclass</th>\n",
       "      <th>Age</th>\n",
       "      <th>SibSp</th>\n",
       "      <th>Parch</th>\n",
       "      <th>Sex_female</th>\n",
       "      <th>Sex_male</th>\n",
       "      <th>Embarked_29</th>\n",
       "      <th>Embarked_C</th>\n",
       "      <th>Embarked_Q</th>\n",
       "      <th>Embarked_S</th>\n",
       "      <th>Farebinned_1_low</th>\n",
       "      <th>Farebinned_1_medium</th>\n",
       "      <th>Farebinned_1_high</th>\n",
       "    </tr>\n",
       "  </thead>\n",
       "  <tbody>\n",
       "    <tr>\n",
       "      <th>0</th>\n",
       "      <td>3</td>\n",
       "      <td>22.0</td>\n",
       "      <td>1</td>\n",
       "      <td>0</td>\n",
       "      <td>0</td>\n",
       "      <td>1</td>\n",
       "      <td>0</td>\n",
       "      <td>0</td>\n",
       "      <td>0</td>\n",
       "      <td>1</td>\n",
       "      <td>1</td>\n",
       "      <td>0</td>\n",
       "      <td>0</td>\n",
       "    </tr>\n",
       "    <tr>\n",
       "      <th>1</th>\n",
       "      <td>1</td>\n",
       "      <td>38.0</td>\n",
       "      <td>1</td>\n",
       "      <td>0</td>\n",
       "      <td>1</td>\n",
       "      <td>0</td>\n",
       "      <td>0</td>\n",
       "      <td>1</td>\n",
       "      <td>0</td>\n",
       "      <td>0</td>\n",
       "      <td>0</td>\n",
       "      <td>0</td>\n",
       "      <td>1</td>\n",
       "    </tr>\n",
       "    <tr>\n",
       "      <th>2</th>\n",
       "      <td>3</td>\n",
       "      <td>26.0</td>\n",
       "      <td>0</td>\n",
       "      <td>0</td>\n",
       "      <td>1</td>\n",
       "      <td>0</td>\n",
       "      <td>0</td>\n",
       "      <td>0</td>\n",
       "      <td>0</td>\n",
       "      <td>1</td>\n",
       "      <td>1</td>\n",
       "      <td>0</td>\n",
       "      <td>0</td>\n",
       "    </tr>\n",
       "    <tr>\n",
       "      <th>3</th>\n",
       "      <td>1</td>\n",
       "      <td>35.0</td>\n",
       "      <td>1</td>\n",
       "      <td>0</td>\n",
       "      <td>1</td>\n",
       "      <td>0</td>\n",
       "      <td>0</td>\n",
       "      <td>0</td>\n",
       "      <td>0</td>\n",
       "      <td>1</td>\n",
       "      <td>0</td>\n",
       "      <td>0</td>\n",
       "      <td>1</td>\n",
       "    </tr>\n",
       "    <tr>\n",
       "      <th>4</th>\n",
       "      <td>3</td>\n",
       "      <td>35.0</td>\n",
       "      <td>0</td>\n",
       "      <td>0</td>\n",
       "      <td>0</td>\n",
       "      <td>1</td>\n",
       "      <td>0</td>\n",
       "      <td>0</td>\n",
       "      <td>0</td>\n",
       "      <td>1</td>\n",
       "      <td>1</td>\n",
       "      <td>0</td>\n",
       "      <td>0</td>\n",
       "    </tr>\n",
       "  </tbody>\n",
       "</table>\n",
       "</div>"
      ],
      "text/plain": [
       "   Pclass   Age  SibSp  Parch  Sex_female  Sex_male  Embarked_29  Embarked_C  \\\n",
       "0       3  22.0      1      0           0         1            0           0   \n",
       "1       1  38.0      1      0           1         0            0           1   \n",
       "2       3  26.0      0      0           1         0            0           0   \n",
       "3       1  35.0      1      0           1         0            0           0   \n",
       "4       3  35.0      0      0           0         1            0           0   \n",
       "\n",
       "   Embarked_Q  Embarked_S  Farebinned_1_low  Farebinned_1_medium  \\\n",
       "0           0           1                 1                    0   \n",
       "1           0           0                 0                    0   \n",
       "2           0           1                 1                    0   \n",
       "3           0           1                 0                    0   \n",
       "4           0           1                 1                    0   \n",
       "\n",
       "   Farebinned_1_high  \n",
       "0                  0  \n",
       "1                  1  \n",
       "2                  0  \n",
       "3                  1  \n",
       "4                  0  "
      ]
     },
     "execution_count": 40,
     "metadata": {},
     "output_type": "execute_result"
    }
   ],
   "source": [
    "X.head()"
   ]
  },
  {
   "cell_type": "code",
   "execution_count": 41,
   "id": "2e19be8e",
   "metadata": {},
   "outputs": [],
   "source": [
    "Y = df['Survived']"
   ]
  },
  {
   "cell_type": "code",
   "execution_count": 42,
   "id": "0efa1bd3",
   "metadata": {},
   "outputs": [
    {
     "data": {
      "text/plain": [
       "0      0\n",
       "1      1\n",
       "2      1\n",
       "3      1\n",
       "4      0\n",
       "      ..\n",
       "886    0\n",
       "887    1\n",
       "888    0\n",
       "889    1\n",
       "890    0\n",
       "Name: Survived, Length: 891, dtype: int64"
      ]
     },
     "execution_count": 42,
     "metadata": {},
     "output_type": "execute_result"
    }
   ],
   "source": [
    "Y"
   ]
  },
  {
   "cell_type": "markdown",
   "id": "b5645f34",
   "metadata": {},
   "source": [
    "## Splitting data\n",
    "    note : train_test_split generates random samples every time automatically\n",
    "    random_state=10 parameter will naot generatr random samples"
   ]
  },
  {
   "cell_type": "code",
   "execution_count": 43,
   "id": "f4012397",
   "metadata": {},
   "outputs": [],
   "source": [
    "Xtrain, Xtest, Ytrain, Ytest = train_test_split(X,Y, test_size=0.3,random_state=40)"
   ]
  },
  {
   "cell_type": "code",
   "execution_count": 44,
   "id": "1821086a",
   "metadata": {},
   "outputs": [
    {
     "data": {
      "text/plain": [
       "(891, 14)"
      ]
     },
     "execution_count": 44,
     "metadata": {},
     "output_type": "execute_result"
    }
   ],
   "source": [
    "df.shape"
   ]
  },
  {
   "cell_type": "code",
   "execution_count": 45,
   "id": "fcdda8db",
   "metadata": {},
   "outputs": [
    {
     "name": "stdout",
     "output_type": "stream",
     "text": [
      "(623, 13) (623,)\n"
     ]
    }
   ],
   "source": [
    "print(Xtrain.shape,Ytrain.shape)"
   ]
  },
  {
   "cell_type": "code",
   "execution_count": 46,
   "id": "5a580c9b",
   "metadata": {},
   "outputs": [
    {
     "name": "stdout",
     "output_type": "stream",
     "text": [
      "(268, 13) (268,)\n"
     ]
    }
   ],
   "source": [
    "print(Xtest.shape,Ytest.shape)"
   ]
  },
  {
   "cell_type": "code",
   "execution_count": 47,
   "id": "4e9c87a1",
   "metadata": {},
   "outputs": [
    {
     "data": {
      "image/png": "[encoded data removed]",
      "text/plain": [
       "<Figure size 2340x2340 with 182 Axes>"
      ]
     },
     "metadata": {
      "needs_background": "light"
     },
     "output_type": "display_data"
    }
   ],
   "source": [
    "sns.pairplot(X)\n",
    "plt.show()"
   ]
  },
  {
   "cell_type": "code",
   "execution_count": 48,
   "id": "d888c086",
   "metadata": {},
   "outputs": [],
   "source": [
    "y = df['Survived']"
   ]
  },
  {
   "cell_type": "code",
   "execution_count": 49,
   "id": "fe0a81c0",
   "metadata": {},
   "outputs": [
    {
     "data": {
      "text/plain": [
       "0    0\n",
       "1    1\n",
       "2    1\n",
       "3    1\n",
       "4    0\n",
       "Name: Survived, dtype: int64"
      ]
     },
     "execution_count": 49,
     "metadata": {},
     "output_type": "execute_result"
    }
   ],
   "source": [
    "y.head()"
   ]
  },
  {
   "cell_type": "markdown",
   "id": "41d6d089",
   "metadata": {},
   "source": [
    "## FEATURE SCALING\n",
    "    a) Normalization : helps us to scale down the features between 0-1\n",
    "Min_Max scaler :\n",
    "𝑋𝑛𝑜𝑟𝑚=𝑋−𝑋𝑚𝑖𝑛𝑋𝑚𝑎𝑥−𝑋𝑚𝑖𝑛\n",
    " \n",
    "    b) Standardization(Z-Score Normalization) : helps us to scale down the features based on standard normal distribution with\n",
    "mean = 0 and standart deviation = 1\n",
    "    𝑍=𝑥−𝑢𝜎\n"
   ]
  },
  {
   "cell_type": "code",
   "execution_count": 50,
   "id": "0e13ca68",
   "metadata": {},
   "outputs": [],
   "source": [
    "scaler = StandardScaler()\n",
    "X = scaler.fit_transform(X)"
   ]
  },
  {
   "cell_type": "code",
   "execution_count": 51,
   "id": "b8ad3715",
   "metadata": {},
   "outputs": [
    {
     "data": {
      "text/plain": [
       "LinearRegression()"
      ]
     },
     "execution_count": 51,
     "metadata": {},
     "output_type": "execute_result"
    }
   ],
   "source": [
    "lin_model = LinearRegression().fit(Xtrain,Ytrain)\n",
    "lin_model"
   ]
  },
  {
   "cell_type": "code",
   "execution_count": 52,
   "id": "26a06ff6",
   "metadata": {},
   "outputs": [
    {
     "data": {
      "text/plain": [
       "0.37523563527104664"
      ]
     },
     "execution_count": 52,
     "metadata": {},
     "output_type": "execute_result"
    }
   ],
   "source": [
    "lin_model.score(Xtrain,Ytrain)"
   ]
  },
  {
   "cell_type": "markdown",
   "id": "f9eac6a7",
   "metadata": {},
   "source": [
    "   ## The coefficient is a factor that describes the relationship with an unknown variable."
   ]
  },
  {
   "cell_type": "code",
   "execution_count": 53,
   "id": "a421d5ba",
   "metadata": {},
   "outputs": [
    {
     "data": {
      "text/plain": [
       "array([-0.14801656, -0.00598912, -0.04055142, -0.01725301,  0.24499375,\n",
       "       -0.24499375,  0.03988585, -0.00063621,  0.01261024, -0.05185989,\n",
       "       -0.35109812, -0.30307796, -0.26754846])"
      ]
     },
     "execution_count": 53,
     "metadata": {},
     "output_type": "execute_result"
    }
   ],
   "source": [
    "lin_model.coef_"
   ]
  },
  {
   "cell_type": "code",
   "execution_count": 54,
   "id": "6ed831d1",
   "metadata": {},
   "outputs": [
    {
     "data": {
      "text/plain": [
       "1.358271873949446"
      ]
     },
     "execution_count": 54,
     "metadata": {},
     "output_type": "execute_result"
    }
   ],
   "source": [
    "lin_model.intercept_"
   ]
  },
  {
   "cell_type": "code",
   "execution_count": 55,
   "id": "b81cd22a",
   "metadata": {},
   "outputs": [
    {
     "data": {
      "text/plain": [
       "0.45411440068874775"
      ]
     },
     "execution_count": 55,
     "metadata": {},
     "output_type": "execute_result"
    }
   ],
   "source": [
    "lin_model.score(Xtest,Ytest)"
   ]
  },
  {
   "cell_type": "code",
   "execution_count": 56,
   "id": "a45606d5",
   "metadata": {},
   "outputs": [],
   "source": [
    "pred = lin_model.predict(Xtest)"
   ]
  },
  {
   "cell_type": "code",
   "execution_count": 57,
   "id": "bf432da5",
   "metadata": {},
   "outputs": [
    {
     "data": {
      "text/plain": [
       "array([ 0.60653   ,  0.13450985,  0.67959635,  0.47118908,  0.71292394,\n",
       "        0.23461348,  0.17044456,  0.1524772 ,  0.2765373 ,  0.56075589,\n",
       "        0.88251199,  0.35518756,  0.14380971,  0.1716415 ,  0.57059529,\n",
       "        0.487863  ,  0.58993504,  0.64704365,  0.14648809,  0.24498757,\n",
       "        0.58257353,  0.86171372,  0.79527163,  0.64704365,  0.9561672 ,\n",
       "        0.69086024,  0.30720578,  0.09258603,  0.32883521,  0.14380971,\n",
       "        0.53537073,  0.18101263,  0.09395843,  0.12852074,  0.15846632,\n",
       "        1.04332558,  0.16985292,  0.08659692,  0.48223816,  0.64704365,\n",
       "        0.09258603,  0.17044456,  0.14049897,  0.83507887,  0.60481863,\n",
       "       -0.03318543,  0.09258603,  0.15787468,  0.13119434,  0.09258603,\n",
       "        0.76053568,  0.08351611,  0.91049354,  1.04001484,  0.34081345,\n",
       "        0.57658441,  0.1524772 ,  0.88567019,  0.88969527,  0.11055338,\n",
       "        0.07103834,  0.46019058,  0.13450985,  0.97282857,  0.3298024 ,\n",
       "        0.34081345,  0.89568439,  0.72631234,  0.29182627,  0.63120081,\n",
       "        0.62401294,  0.98723233,  0.09823914,  0.25268806,  0.1179149 ,\n",
       "        0.09258603,  0.14648809,  0.82310064, -0.06612557,  0.64845382,\n",
       "        0.60481863,  0.63048647,  0.68948784,  0.0813916 ,  0.62289321,\n",
       "        0.92160489,  0.15816834,  0.80852601,  0.81500664,  0.86105567,\n",
       "        0.22862436,  0.7006445 ,  0.05066221,  0.16881058,  0.14648809,\n",
       "        0.77850303,  0.09258603,  0.09258603,  0.09258603,  0.87035552,\n",
       "        0.38370446,  0.24060259,  0.62449735,  0.14380971,  0.48883019,\n",
       "       -0.0212072 ,  0.13450985,  0.99353059,  0.15705616,  0.05813095,\n",
       "        0.21812575,  0.29772567,  0.41963916,  0.40669374,  0.33984644,\n",
       "        0.1406062 ,  0.95201198,  0.1761357 ,  0.16066029,  0.97693563,\n",
       "        0.06264045,  0.14360076,  0.60800962,  0.60191328,  0.71764485,\n",
       "        1.01337999,  0.07461868,  0.36436471,  0.73176413,  0.85626119,\n",
       "        0.66020031,  0.6647098 ,  0.64704365,  0.23461348, -0.00495121,\n",
       "        0.15823458,  0.92622161,  0.12680937,  0.09258603,  0.73805883,\n",
       "       -0.00682018,  0.09857515,  0.55333808,  0.09406566,  0.39252449,\n",
       "        0.72810815,  0.14380971,  0.1165425 ,  0.76800442,  0.15705616,\n",
       "        0.28874547,  0.14648809,  0.8024595 ,  0.76053568,  0.22263524,\n",
       "        0.00169892,  0.64704365,  0.40267658,  1.00739088,  0.57059529,\n",
       "        0.15846632,  0.31520208,  0.13782059,  0.23851881,  0.09258603,\n",
       "        0.63476717,  0.61850823, -0.03483755,  0.44359563,  0.09258603,\n",
       "        0.48187388,  0.15846632,  0.12390401,  0.56531632,  0.43663932,\n",
       "        0.64704365,  0.36305873,  0.08818131,  0.92160489,  0.07792942,\n",
       "        1.00876327,  0.03900602,  0.30648288,  0.85718312,  0.32883521,\n",
       "        0.50679754,  0.15298626,  0.16445544,  0.15705616, -0.09149221,\n",
       "        0.42198271, -0.01521808,  0.14380971,  0.71797491,  0.62449735,\n",
       "        1.04332558,  0.30720578,  0.55366433,  0.10005477,  0.91105534,\n",
       "        0.09258603,  0.78531372,  0.04498928,  0.57163168,  0.58257353,\n",
       "        0.12401124,  0.48498295,  0.42520436,  0.88567019, -0.03917455,\n",
       "        0.63476422,  0.14049897,  0.1645249 ,  0.29096235,  0.2783331 ,\n",
       "        0.62449735,  0.43663932,  0.50491549,  0.4730357 ,  0.89910695,\n",
       "        0.67241029,  0.35658979,  0.59455176,  0.73805883,  0.09258603,\n",
       "        0.91567207,  0.64704365,  0.12253162,  0.13450985,  0.18071142,\n",
       "        0.62528909,  0.79506022,  0.30049377,  0.11055338,  0.6545124 ,\n",
       "        0.15705616,  0.53608508,  0.23899845,  0.09258603,  0.91892651,\n",
       "        0.47216882,  0.57806404,  0.487863  ,  0.03868398,  0.56081103,\n",
       "       -0.00323984,  0.09258603,  0.14049897, -0.02719631,  0.17021281,\n",
       "        0.43161739,  0.63613957,  0.21664613,  0.88801374,  0.64704365,\n",
       "        0.74404795,  0.83594161,  0.62449735,  0.03269486,  0.94490331,\n",
       "        0.12852074,  0.50679754,  0.31782417,  0.73044465,  0.94151059,\n",
       "        0.19771177,  0.05665133,  0.70882759])"
      ]
     },
     "execution_count": 57,
     "metadata": {},
     "output_type": "execute_result"
    }
   ],
   "source": [
    "pred"
   ]
  },
  {
   "cell_type": "code",
   "execution_count": 64,
   "id": "4b87bb0c",
   "metadata": {},
   "outputs": [
    {
     "data": {
      "text/plain": [
       "246    0\n",
       "588    0\n",
       "472    1\n",
       "71     0\n",
       "654    0\n",
       "418    0\n",
       "220    1\n",
       "283    1\n",
       "733    0\n",
       "550    1\n",
       "Name: Survived, dtype: int64"
      ]
     },
     "execution_count": 64,
     "metadata": {},
     "output_type": "execute_result"
    }
   ],
   "source": [
    "Ytest.head(10)"
   ]
  },
  {
   "cell_type": "code",
   "execution_count": 65,
   "id": "3de30b90",
   "metadata": {},
   "outputs": [],
   "source": [
    "def function_1(pred_l):\n",
    "    survived_list=[]\n",
    "    for element in pred_l:\n",
    "        if element > 0.5:\n",
    "            survived_list.append(1)\n",
    "        else:\n",
    "            element=0\n",
    "            survived_list.append(0)\n",
    "    return survived_list"
   ]
  },
  {
   "cell_type": "code",
   "execution_count": 59,
   "id": "f82e1d29",
   "metadata": {},
   "outputs": [],
   "source": [
    "result = function_1(pred)"
   ]
  },
  {
   "cell_type": "code",
   "execution_count": 61,
   "id": "b8d3280c",
   "metadata": {},
   "outputs": [],
   "source": [
    "pred = pred.astype(int)"
   ]
  },
  {
   "cell_type": "code",
   "execution_count": 63,
   "id": "d928daeb",
   "metadata": {},
   "outputs": [
    {
     "data": {
      "text/plain": [
       "array([0, 0, 0, 0, 0, 0, 0, 0, 0, 0, 0, 0, 0, 0, 0, 0, 0, 0, 0, 0, 0, 0,\n",
       "       0, 0, 0, 0, 0, 0, 0, 0, 0, 0, 0, 0, 0, 1, 0, 0, 0, 0, 0, 0, 0, 0,\n",
       "       0, 0, 0, 0, 0, 0, 0, 0, 0, 1, 0, 0, 0, 0, 0, 0, 0, 0, 0, 0, 0, 0,\n",
       "       0, 0, 0, 0, 0, 0, 0, 0, 0, 0, 0, 0, 0, 0, 0, 0, 0, 0, 0, 0, 0, 0,\n",
       "       0, 0, 0, 0, 0, 0, 0, 0, 0, 0, 0, 0, 0, 0, 0, 0, 0, 0, 0, 0, 0, 0,\n",
       "       0, 0, 0, 0, 0, 0, 0, 0, 0, 0, 0, 0, 0, 0, 0, 1, 0, 0, 0, 0, 0, 0,\n",
       "       0, 0, 0, 0, 0, 0, 0, 0, 0, 0, 0, 0, 0, 0, 0, 0, 0, 0, 0, 0, 0, 0,\n",
       "       0, 0, 0, 0, 1, 0, 0, 0, 0, 0, 0, 0, 0, 0, 0, 0, 0, 0, 0, 0, 0, 0,\n",
       "       0, 0, 0, 0, 1, 0, 0, 0, 0, 0, 0, 0, 0, 0, 0, 0, 0, 0, 0, 1, 0, 0,\n",
       "       0, 0, 0, 0, 0, 0, 0, 0, 0, 0, 0, 0, 0, 0, 0, 0, 0, 0, 0, 0, 0, 0,\n",
       "       0, 0, 0, 0, 0, 0, 0, 0, 0, 0, 0, 0, 0, 0, 0, 0, 0, 0, 0, 0, 0, 0,\n",
       "       0, 0, 0, 0, 0, 0, 0, 0, 0, 0, 0, 0, 0, 0, 0, 0, 0, 0, 0, 0, 0, 0,\n",
       "       0, 0, 0, 0])"
      ]
     },
     "execution_count": 63,
     "metadata": {},
     "output_type": "execute_result"
    }
   ],
   "source": [
    "pred"
   ]
  },
  {
   "cell_type": "code",
   "execution_count": 66,
   "id": "32d80ec2",
   "metadata": {},
   "outputs": [
    {
     "data": {
      "text/html": [
       "<div>\n",
       "<style scoped>\n",
       "    .dataframe tbody tr th:only-of-type {\n",
       "        vertical-align: middle;\n",
       "    }\n",
       "\n",
       "    .dataframe tbody tr th {\n",
       "        vertical-align: top;\n",
       "    }\n",
       "\n",
       "    .dataframe thead th {\n",
       "        text-align: right;\n",
       "    }\n",
       "</style>\n",
       "<table border=\"1\" class=\"dataframe\">\n",
       "  <thead>\n",
       "    <tr style=\"text-align: right;\">\n",
       "      <th></th>\n",
       "      <th>Survived</th>\n",
       "      <th>Pclass</th>\n",
       "      <th>Age</th>\n",
       "      <th>SibSp</th>\n",
       "      <th>Parch</th>\n",
       "      <th>Sex_female</th>\n",
       "      <th>Sex_male</th>\n",
       "      <th>Embarked_29</th>\n",
       "      <th>Embarked_C</th>\n",
       "      <th>Embarked_Q</th>\n",
       "      <th>Embarked_S</th>\n",
       "      <th>Farebinned_1_low</th>\n",
       "      <th>Farebinned_1_medium</th>\n",
       "      <th>Farebinned_1_high</th>\n",
       "    </tr>\n",
       "  </thead>\n",
       "  <tbody>\n",
       "    <tr>\n",
       "      <th>0</th>\n",
       "      <td>0</td>\n",
       "      <td>3</td>\n",
       "      <td>22.0</td>\n",
       "      <td>1</td>\n",
       "      <td>0</td>\n",
       "      <td>0</td>\n",
       "      <td>1</td>\n",
       "      <td>0</td>\n",
       "      <td>0</td>\n",
       "      <td>0</td>\n",
       "      <td>1</td>\n",
       "      <td>1</td>\n",
       "      <td>0</td>\n",
       "      <td>0</td>\n",
       "    </tr>\n",
       "    <tr>\n",
       "      <th>1</th>\n",
       "      <td>1</td>\n",
       "      <td>1</td>\n",
       "      <td>38.0</td>\n",
       "      <td>1</td>\n",
       "      <td>0</td>\n",
       "      <td>1</td>\n",
       "      <td>0</td>\n",
       "      <td>0</td>\n",
       "      <td>1</td>\n",
       "      <td>0</td>\n",
       "      <td>0</td>\n",
       "      <td>0</td>\n",
       "      <td>0</td>\n",
       "      <td>1</td>\n",
       "    </tr>\n",
       "    <tr>\n",
       "      <th>2</th>\n",
       "      <td>1</td>\n",
       "      <td>3</td>\n",
       "      <td>26.0</td>\n",
       "      <td>0</td>\n",
       "      <td>0</td>\n",
       "      <td>1</td>\n",
       "      <td>0</td>\n",
       "      <td>0</td>\n",
       "      <td>0</td>\n",
       "      <td>0</td>\n",
       "      <td>1</td>\n",
       "      <td>1</td>\n",
       "      <td>0</td>\n",
       "      <td>0</td>\n",
       "    </tr>\n",
       "    <tr>\n",
       "      <th>3</th>\n",
       "      <td>1</td>\n",
       "      <td>1</td>\n",
       "      <td>35.0</td>\n",
       "      <td>1</td>\n",
       "      <td>0</td>\n",
       "      <td>1</td>\n",
       "      <td>0</td>\n",
       "      <td>0</td>\n",
       "      <td>0</td>\n",
       "      <td>0</td>\n",
       "      <td>1</td>\n",
       "      <td>0</td>\n",
       "      <td>0</td>\n",
       "      <td>1</td>\n",
       "    </tr>\n",
       "    <tr>\n",
       "      <th>4</th>\n",
       "      <td>0</td>\n",
       "      <td>3</td>\n",
       "      <td>35.0</td>\n",
       "      <td>0</td>\n",
       "      <td>0</td>\n",
       "      <td>0</td>\n",
       "      <td>1</td>\n",
       "      <td>0</td>\n",
       "      <td>0</td>\n",
       "      <td>0</td>\n",
       "      <td>1</td>\n",
       "      <td>1</td>\n",
       "      <td>0</td>\n",
       "      <td>0</td>\n",
       "    </tr>\n",
       "  </tbody>\n",
       "</table>\n",
       "</div>"
      ],
      "text/plain": [
       "   Survived  Pclass   Age  SibSp  Parch  Sex_female  Sex_male  Embarked_29  \\\n",
       "0         0       3  22.0      1      0           0         1            0   \n",
       "1         1       1  38.0      1      0           1         0            0   \n",
       "2         1       3  26.0      0      0           1         0            0   \n",
       "3         1       1  35.0      1      0           1         0            0   \n",
       "4         0       3  35.0      0      0           0         1            0   \n",
       "\n",
       "   Embarked_C  Embarked_Q  Embarked_S  Farebinned_1_low  Farebinned_1_medium  \\\n",
       "0           0           0           1                 1                    0   \n",
       "1           1           0           0                 0                    0   \n",
       "2           0           0           1                 1                    0   \n",
       "3           0           0           1                 0                    0   \n",
       "4           0           0           1                 1                    0   \n",
       "\n",
       "   Farebinned_1_high  \n",
       "0                  0  \n",
       "1                  1  \n",
       "2                  0  \n",
       "3                  1  \n",
       "4                  0  "
      ]
     },
     "execution_count": 66,
     "metadata": {},
     "output_type": "execute_result"
    }
   ],
   "source": [
    "df.head()"
   ]
  },
  {
   "cell_type": "code",
   "execution_count": 67,
   "id": "fa3e951f",
   "metadata": {},
   "outputs": [
    {
     "data": {
      "text/plain": [
       "<matplotlib.collections.PathCollection at 0x142562366d0>"
      ]
     },
     "execution_count": 67,
     "metadata": {},
     "output_type": "execute_result"
    },
    {
     "data": {
      "image/png": "[encoded data removed]",
      "text/plain": [
       "<Figure size 432x288 with 1 Axes>"
      ]
     },
     "metadata": {
      "needs_background": "light"
     },
     "output_type": "display_data"
    }
   ],
   "source": [
    "plt.scatter(x=pred,y=Ytest,linewidths=2,marker='X')"
   ]
  },
  {
   "cell_type": "code",
   "execution_count": 69,
   "id": "731155d3",
   "metadata": {},
   "outputs": [
    {
     "data": {
      "text/plain": [
       "Lasso(alpha=0.1)"
      ]
     },
     "execution_count": 69,
     "metadata": {},
     "output_type": "execute_result"
    }
   ],
   "source": [
    "model = linear_model.Lasso(alpha=0.1)\n",
    "model.fit(Xtrain,Ytrain)"
   ]
  },
  {
   "cell_type": "code",
   "execution_count": 70,
   "id": "6b48fed8",
   "metadata": {},
   "outputs": [
    {
     "data": {
      "text/plain": [
       "0.1266442775372595"
      ]
     },
     "execution_count": 70,
     "metadata": {},
     "output_type": "execute_result"
    }
   ],
   "source": [
    "model.score(Xtrain,Ytrain)"
   ]
  },
  {
   "cell_type": "code",
   "execution_count": 71,
   "id": "c2f4d386",
   "metadata": {},
   "outputs": [
    {
     "data": {
      "text/plain": [
       "0.13373180987354005"
      ]
     },
     "execution_count": 71,
     "metadata": {},
     "output_type": "execute_result"
    }
   ],
   "source": [
    "model.score(Xtest,Ytest)"
   ]
  },
  {
   "cell_type": "code",
   "execution_count": 72,
   "id": "7dbd69dc",
   "metadata": {},
   "outputs": [
    {
     "data": {
      "text/plain": [
       "array([-4.79734962e-02, -3.08285592e-03, -0.00000000e+00,  0.00000000e+00,\n",
       "        7.65096218e-02, -1.54977754e-16,  0.00000000e+00,  0.00000000e+00,\n",
       "        0.00000000e+00, -0.00000000e+00, -0.00000000e+00,  0.00000000e+00,\n",
       "        0.00000000e+00])"
      ]
     },
     "execution_count": 72,
     "metadata": {},
     "output_type": "execute_result"
    }
   ],
   "source": [
    "model.coef_"
   ]
  },
  {
   "cell_type": "code",
   "execution_count": 73,
   "id": "4258878d",
   "metadata": {},
   "outputs": [
    {
     "data": {
      "text/plain": [
       "0.5466017064289023"
      ]
     },
     "execution_count": 73,
     "metadata": {},
     "output_type": "execute_result"
    }
   ],
   "source": [
    "model.intercept_"
   ]
  },
  {
   "cell_type": "code",
   "execution_count": 74,
   "id": "00119a97",
   "metadata": {},
   "outputs": [],
   "source": [
    "lpred = model.predict(Xtest)"
   ]
  },
  {
   "cell_type": "code",
   "execution_count": 75,
   "id": "cf1d8d06",
   "metadata": {},
   "outputs": [
    {
     "data": {
      "text/plain": [
       "array([0.40211944, 0.33485839, 0.42543009, 0.42986514, 0.42369943,\n",
       "       0.35816904, 0.35335552, 0.34410696, 0.37974903, 0.44621966,\n",
       "       0.52099862, 0.3876454 , 0.3132784 , 0.3396719 , 0.38362231,\n",
       "       0.40922539, 0.41445087, 0.38978802, 0.3410241 , 0.310574  ,\n",
       "       0.38978802, 0.45490645, 0.44084437, 0.38978802, 0.48265215,\n",
       "       0.42234723, 0.38978802, 0.3132784 , 0.35373398, 0.3132784 ,\n",
       "       0.4153911 , 0.32560982, 0.33485839, 0.33177553, 0.34718981,\n",
       "       0.50114929, 0.35643838, 0.31019554, 0.33429661, 0.38978802,\n",
       "       0.3132784 , 0.35335552, 0.33794124, 0.41482932, 0.37302154,\n",
       "       0.24853842, 0.3132784 , 0.35027267, 0.25199974, 0.3132784 ,\n",
       "       0.45317579, 0.32252696, 0.51791577, 0.52581214, 0.35989969,\n",
       "       0.38670516, 0.34410696, 0.46723787, 0.4518236 , 0.32252696,\n",
       "       0.39959836, 0.40305968, 0.33485839, 0.48573501, 0.35681684,\n",
       "       0.35989969, 0.45490645, 0.46377656, 0.36125189, 0.42369943,\n",
       "       0.38978802, 0.52581214, 0.37185266, 0.34275476, 0.34718981,\n",
       "       0.3132784 , 0.3410241 , 0.40866361, 0.23158271, 0.42369943,\n",
       "       0.37302154, 0.41445087, 0.40076724, 0.27936698, 0.35760726,\n",
       "       0.48573501, 0.30402983, 0.43640932, 0.47610798, 0.44257503,\n",
       "       0.35508618, 0.42234723, 0.2916984 , 0.2828283 , 0.3410241 ,\n",
       "       0.46242436, 0.3132784 , 0.3132784 , 0.3132784 , 0.42099504,\n",
       "       0.38456254, 0.36125189, 0.41136801, 0.3132784 , 0.41230824,\n",
       "       0.25470413, 0.33485839, 0.51964643, 0.3132784 , 0.2916984 ,\n",
       "       0.34583761, 0.40138642, 0.40305968, 0.39381111, 0.36125189,\n",
       "       0.3132784 , 0.51656357, 0.3132784 , 0.35335552, 0.53197785,\n",
       "       0.29786412, 0.31481982, 0.39903659, 0.42061658, 0.432948  ,\n",
       "       0.48573501, 0.30402983, 0.35373398, 0.3876454 , 0.38400077,\n",
       "       0.39768439, 0.4038501 , 0.38978802, 0.35816904, 0.2348548 ,\n",
       "       0.31500905, 0.46723787, 0.30267763, 0.3132784 , 0.43776151,\n",
       "       0.35952124, 0.31636125, 0.42463967, 0.31019554, 0.444489  ,\n",
       "       0.43448943, 0.3132784 , 0.32560982, 0.45317579, 0.3132784 ,\n",
       "       0.37358332, 0.3410241 , 0.47475579, 0.45317579, 0.35200332,\n",
       "       0.3132784 , 0.38978802, 0.34662804, 0.48265215, 0.38362231,\n",
       "       0.34718981, 0.31982257, 0.31019554, 0.39343265, 0.3132784 ,\n",
       "       0.45144514, 0.40828515, 0.27936698, 0.4153911 , 0.3132784 ,\n",
       "       0.40614253, 0.34718981, 0.35027267, 0.43080538, 0.40922539,\n",
       "       0.38978802, 0.34756827, 0.27782555, 0.48573501, 0.27936698,\n",
       "       0.50423215, 0.35335552, 0.39516331, 0.48708721, 0.35373398,\n",
       "       0.42155681, 0.30132543, 0.35027267, 0.3132784 , 0.18533988,\n",
       "       0.37531397, 0.25778699, 0.3132784 , 0.38091791, 0.41136801,\n",
       "       0.50114929, 0.38978802, 0.45144514, 0.3132784 , 0.49806643,\n",
       "       0.3132784 , 0.45009294, 0.26241127, 0.4606937 , 0.38978802,\n",
       "       0.32560982, 0.37745659, 0.34046232, 0.46723787, 0.24545557,\n",
       "       0.38843582, 0.33794124, 0.3132784 , 0.38591474, 0.3504619 ,\n",
       "       0.41136801, 0.40922539, 0.4647168 , 0.44757186, 0.5086672 ,\n",
       "       0.43603086, 0.42599187, 0.39595373, 0.43776151, 0.3132784 ,\n",
       "       0.4795693 , 0.38978802, 0.32869268, 0.33485839, 0.33042333,\n",
       "       0.37918725, 0.43776151, 0.39208045, 0.32252696, 0.38978802,\n",
       "       0.3132784 , 0.42463967, 0.30749114, 0.3132784 , 0.45798931,\n",
       "       0.40922539, 0.38362231, 0.40922539, 0.28553269, 0.38362231,\n",
       "       0.2639527 , 0.3132784 , 0.33794124, 0.25162128, 0.32117477,\n",
       "       0.40922539, 0.47302513, 0.34892047, 0.43949217, 0.38978802,\n",
       "       0.44084437, 0.50114929, 0.41136801, 0.28244984, 0.48573501,\n",
       "       0.33177553, 0.42155681, 0.35065113, 0.42369943, 0.44874074,\n",
       "       0.3410241 , 0.29478126, 0.4315958 ])"
      ]
     },
     "execution_count": 75,
     "metadata": {},
     "output_type": "execute_result"
    }
   ],
   "source": [
    "lpred"
   ]
  },
  {
   "cell_type": "code",
   "execution_count": 76,
   "id": "88175d2b",
   "metadata": {},
   "outputs": [
    {
     "data": {
      "text/plain": [
       "1.0"
      ]
     },
     "execution_count": 76,
     "metadata": {},
     "output_type": "execute_result"
    }
   ],
   "source": [
    "model.score(Xtest,lpred)"
   ]
  },
  {
   "cell_type": "code",
   "execution_count": 77,
   "id": "7a74504b",
   "metadata": {},
   "outputs": [],
   "source": [
    "r = r2_score(Ytest,lpred)"
   ]
  },
  {
   "cell_type": "code",
   "execution_count": 78,
   "id": "fb9fb6b6",
   "metadata": {},
   "outputs": [
    {
     "data": {
      "text/plain": [
       "0.13373180987354005"
      ]
     },
     "execution_count": 78,
     "metadata": {},
     "output_type": "execute_result"
    }
   ],
   "source": [
    "r"
   ]
  },
  {
   "cell_type": "code",
   "execution_count": 79,
   "id": "688d240c",
   "metadata": {},
   "outputs": [
    {
     "data": {
      "text/plain": [
       "<matplotlib.collections.PathCollection at 0x14255e60a60>"
      ]
     },
     "execution_count": 79,
     "metadata": {},
     "output_type": "execute_result"
    },
    {
     "data": {
      "image/png": "[encoded data removed]",
      "text/plain": [
       "<Figure size 432x288 with 1 Axes>"
      ]
     },
     "metadata": {
      "needs_background": "light"
     },
     "output_type": "display_data"
    }
   ],
   "source": [
    "plt.scatter(x=lpred,y=Ytest,marker='X')"
   ]
  },
  {
   "cell_type": "code",
   "execution_count": 82,
   "id": "18f62a0b",
   "metadata": {},
   "outputs": [],
   "source": [
    "Input = [('Scale',StandardScaler()),('polynomial',PolynomialFeatures(degree=2)),('mode',LinearRegression())]"
   ]
  },
  {
   "cell_type": "code",
   "execution_count": 83,
   "id": "b2d9447e",
   "metadata": {},
   "outputs": [],
   "source": [
    "pipe =Pipeline(Input)"
   ]
  },
  {
   "cell_type": "code",
   "execution_count": 89,
   "id": "9c039d6e",
   "metadata": {},
   "outputs": [
    {
     "data": {
      "text/plain": [
       "Pipeline(steps=[('Scale', StandardScaler()),\n",
       "                ('polynomial', PolynomialFeatures()),\n",
       "                ('mode', LinearRegression())])"
      ]
     },
     "execution_count": 89,
     "metadata": {},
     "output_type": "execute_result"
    }
   ],
   "source": [
    "pipe.fit(Xtrain,Ytrain)"
   ]
  },
  {
   "cell_type": "code",
   "execution_count": 91,
   "id": "d2d4e287",
   "metadata": {},
   "outputs": [],
   "source": [
    "yhat = pipe.predict(Xtest)"
   ]
  },
  {
   "cell_type": "code",
   "execution_count": 92,
   "id": "7070fe5a",
   "metadata": {},
   "outputs": [
    {
     "data": {
      "text/plain": [
       "array([ 4.97061253e-01,  1.19886637e-01,  7.19513655e-01, -1.54237747e-02,\n",
       "        8.09835434e-01,  1.12094641e-01,  1.51577234e-01,  1.34665728e-01,\n",
       "        1.54114485e-01,  5.96575499e-01,  1.08454728e+00,  2.17671633e-01,\n",
       "        2.04943419e-01,  2.83244610e-01,  4.98057127e-01,  4.54947472e-01,\n",
       "        4.77852345e-01,  8.06129456e-01,  1.29502535e-01,  2.65542507e-01,\n",
       "        4.96777058e-01,  1.03254580e+00,  7.72931337e-01,  8.06129456e-01,\n",
       "        9.72361803e-01,  7.16300964e-01, -4.68134880e-02,  9.36958790e-02,\n",
       "        3.69093180e-01,  2.04943419e-01,  1.99692011e-01,  7.67638683e-02,\n",
       "        1.35999918e-01,  1.15434408e-01,  1.40065908e-01,  9.16885138e-01,\n",
       "        7.80467749e-01,  9.09020901e-02,  3.16890240e-01,  8.06129456e-01,\n",
       "        9.36958790e-02,  1.51577234e-01,  1.24576092e-01,  1.10505462e+00,\n",
       "        7.36220121e-01,  8.47907066e-02,  9.36958790e-02,  7.53507853e-01,\n",
       "        1.99297667e-01,  9.36958790e-02,  7.41412878e-01,  2.04714537e-01,\n",
       "        1.54869795e+00,  9.19730902e-01,  3.87677431e-01,  4.97298002e-01,\n",
       "        1.34665728e-01,  9.93582010e-01,  1.04342723e+00,  1.03498697e-01,\n",
       "        1.23674154e-01,  1.83890104e-01,  1.19886637e-01,  1.00208259e+00,\n",
       "        3.02852869e-01,  3.87677431e-01,  1.04324603e+00,  5.55352211e-01,\n",
       "        1.65536642e-01,  6.31526709e-01,  4.80305195e-01,  1.50646925e+00,\n",
       "        2.78063297e-01,  2.08888054e-01,  1.45522833e-01,  9.36958790e-02,\n",
       "        1.29502535e-01,  1.11993480e+00,  9.97269154e-02,  5.06681204e-01,\n",
       "        7.36220121e-01,  5.01136303e-01,  6.77620649e-01, -4.26478386e-02,\n",
       "        6.98051453e-01,  9.42245722e-01,  5.47863722e-01,  9.81817961e-01,\n",
       "        1.17732692e+00,  9.48557615e-01,  1.07039213e-01,  7.20458984e-01,\n",
       "        7.91165829e-02,  4.23145533e-01,  1.29502535e-01,  7.52320051e-01,\n",
       "        9.36958790e-02,  9.36958790e-02,  9.36958790e-02,  9.03515577e-01,\n",
       "        2.35423803e-01,  1.17386341e-01,  4.99762535e-01,  2.04943419e-01,\n",
       "        3.21899176e-01,  8.11364651e-02,  1.19886637e-01,  9.18102503e-01,\n",
       "        6.54730797e-02, -1.24545097e-02,  2.20865011e-01,  9.23388243e-01,\n",
       "        2.01133966e-01,  5.06833553e-01,  2.17126608e-01,  6.08918667e-02,\n",
       "        1.49805045e+00,  5.26209116e-01,  2.28537560e-01,  8.89580011e-01,\n",
       "        8.20972919e-02,  6.50832653e-02,  3.28805685e-01,  4.75983620e-01,\n",
       "        6.42132521e-01,  9.09361601e-01,  8.60259533e-02,  2.51660109e-01,\n",
       "        3.28702833e+08,  1.68522126e+09,  7.22611904e-01,  7.19259977e-01,\n",
       "        8.06129456e-01,  1.12094641e-01,  9.47225094e-02,  1.62981033e-01,\n",
       "        1.00241446e+00,  5.73587418e-02,  9.36958790e-02,  7.65547276e-01,\n",
       "        1.68898106e-02,  9.67264175e-02,  2.14860678e-01,  1.58164501e-02,\n",
       "        7.31579065e-01,  5.27393103e-01,  2.04943419e-01,  1.07240200e-01,\n",
       "        7.92724371e-01,  6.54730797e-02,  7.55289078e-01,  1.29502535e-01,\n",
       "        7.70179272e-01,  7.41412878e-01,  1.02221251e-01, -1.75478458e-02,\n",
       "        8.06129456e-01,  2.38600492e-01,  9.08568144e-01,  4.98057127e-01,\n",
       "        1.40065908e-01,  1.73073530e-01,  1.96056604e-01,  4.14939880e-01,\n",
       "        9.36958790e-02,  4.61214066e-01,  4.98624802e-01,  1.54058695e-01,\n",
       "        1.83013201e-01,  9.36958790e-02,  4.35651779e-01,  1.40065908e-01,\n",
       "        1.48495674e-01,  2.26159334e-01,  5.70474148e-01,  8.06129456e-01,\n",
       "        3.36348772e-01,  5.41319847e-02,  9.42245722e-01,  1.20220900e-01,\n",
       "        9.95836020e-01, -4.13873196e-02,  1.91238165e-01,  1.01471829e+00,\n",
       "        3.69093180e-01,  3.28365088e-01,  9.51473713e-02,  1.45703077e-01,\n",
       "        6.54730797e-02,  1.72056675e-01,  2.55732298e-01,  7.96647072e-02,\n",
       "        2.04943419e-01,  1.34594655e+00,  4.99762535e-01,  9.16885138e-01,\n",
       "       -4.68134880e-02,  1.71741724e-01,  2.13582516e-02,  8.61836672e-01,\n",
       "        9.36958790e-02,  8.47499371e-01,  8.86113644e-02,  1.94431067e-01,\n",
       "        4.96777058e-01,  4.58922386e-02,  1.49143934e-01,  1.55465603e-01,\n",
       "        9.93582010e-01,  8.69731903e-02,  7.24778414e-01,  1.24576092e-01,\n",
       "        2.21586704e-01,  1.92397833e-01,  2.75375128e-01,  4.99762535e-01,\n",
       "        5.70474148e-01,  3.39907408e-01,  1.33882880e+00,  1.12801957e+00,\n",
       "        5.17391682e-01,  6.24159575e-01,  4.96445179e-01,  7.65547276e-01,\n",
       "        9.36958790e-02,  8.66082430e-01,  8.06129456e-01,  1.11218691e-01,\n",
       "        1.19886637e-01,  7.51292706e-02,  8.43199015e-01,  9.96154070e-01,\n",
       "        1.83339357e-01,  1.03498697e-01,  8.58508587e-01,  6.54730797e-02,\n",
       "        3.45810175e-01,  2.59922743e-01,  9.36958790e-02,  1.02744842e+00,\n",
       "        1.79683924e-01,  3.16489697e-01,  4.54947472e-01,  7.70835876e-02,\n",
       "        3.04819107e-01,  7.74326324e-02,  9.36958790e-02,  1.24576092e-01,\n",
       "        8.28449726e-02,  1.72662497e-01,  1.91599607e-01,  3.96862745e-01,\n",
       "        9.76402760e-02,  9.22439814e-01,  8.06129456e-01,  7.70508528e-01,\n",
       "        7.78429270e-01,  4.99762535e-01,  7.64224529e-02,  9.09613371e-01,\n",
       "        1.15434408e-01,  3.28365088e-01,  3.20443869e-01,  6.14033937e-01,\n",
       "        9.15477514e-01,  2.95589209e-01,  8.04884434e-02,  7.40516424e-01])"
      ]
     },
     "execution_count": 92,
     "metadata": {},
     "output_type": "execute_result"
    }
   ],
   "source": [
    "yhat"
   ]
  },
  {
   "cell_type": "code",
   "execution_count": 90,
   "id": "0d59ae6c",
   "metadata": {},
   "outputs": [
    {
     "data": {
      "text/plain": [
       "0.47207960713539077"
      ]
     },
     "execution_count": 90,
     "metadata": {},
     "output_type": "execute_result"
    }
   ],
   "source": [
    "pipe.score(Xtrain,Ytrain)"
   ]
  },
  {
   "cell_type": "code",
   "execution_count": 93,
   "id": "36326c8e",
   "metadata": {},
   "outputs": [
    {
     "data": {
      "text/plain": [
       "1.0"
      ]
     },
     "execution_count": 93,
     "metadata": {},
     "output_type": "execute_result"
    }
   ],
   "source": [
    "pipe.score(Xtest,yhat)"
   ]
  },
  {
   "cell_type": "code",
   "execution_count": null,
   "id": "4141f36c",
   "metadata": {},
   "outputs": [],
   "source": [
    "  "
   ]
  }
 ],
 "metadata": {
  "kernelspec": {
   "display_name": "Python 3 (ipykernel)",
   "language": "python",
   "name": "python3"
  },
  "language_info": {
   "codemirror_mode": {
    "name": "ipython",
    "version": 3
   },
   "file_extension": ".py",
   "mimetype": "text/x-python",
   "name": "python",
   "nbconvert_exporter": "python",
   "pygments_lexer": "ipython3",
   "version": "3.9.12"
  }
 },
 "nbformat": 4,
 "nbformat_minor": 5
}
